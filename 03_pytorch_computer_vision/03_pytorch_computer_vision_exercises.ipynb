{
  "cells": [
    {
      "cell_type": "markdown",
      "metadata": {
        "colab_type": "text",
        "id": "view-in-github"
      },
      "source": [
        "<a href=\"https://colab.research.google.com/github/mrdbourke/pytorch-deep-learning/blob/main/extras/exercises/03_pytorch_computer_vision_exercises.ipynb\" target=\"_parent\"><img src=\"https://colab.research.google.com/assets/colab-badge.svg\" alt=\"Open In Colab\"/></a>"
      ]
    },
    {
      "cell_type": "markdown",
      "metadata": {
        "id": "Vex99np2wFVt"
      },
      "source": [
        "# 03. PyTorch Computer Vision Exercises\n",
        "\n",
        "The following is a collection of exercises based on computer vision fundamentals in PyTorch.\n",
        "\n",
        "They're a bunch of fun.\n",
        "\n",
        "You're going to get to write plenty of code!\n",
        "\n",
        "## Resources\n",
        "\n",
        "1. These exercises are based on [notebook 03 of the Learn PyTorch for Deep Learning course](https://www.learnpytorch.io/03_pytorch_computer_vision/). \n",
        "2. See a live [walkthrough of the solutions (errors and all) on YouTube](https://youtu.be/_PibmqpEyhA). \n",
        "  * **Note:** Going through these exercises took me just over 3 hours of solid coding, so you should expect around the same.\n",
        "3. See [other solutions on the course GitHub](https://github.com/mrdbourke/pytorch-deep-learning/tree/main/extras/solutions)."
      ]
    },
    {
      "cell_type": "code",
      "execution_count": 3,
      "metadata": {
        "colab": {
          "base_uri": "https://localhost:8080/"
        },
        "id": "GaeYzOTLwWh2",
        "outputId": "17dd5453-9639-4b01-aa18-7ddbfd5c3253"
      },
      "outputs": [
        {
          "name": "stdout",
          "output_type": "stream",
          "text": [
            "Tue Jan 14 10:42:11 2025       \n",
            "+---------------------------------------------------------------------------------------+\n",
            "| NVIDIA-SMI 535.183.01             Driver Version: 535.183.01   CUDA Version: 12.2     |\n",
            "|-----------------------------------------+----------------------+----------------------+\n",
            "| GPU  Name                 Persistence-M | Bus-Id        Disp.A | Volatile Uncorr. ECC |\n",
            "| Fan  Temp   Perf          Pwr:Usage/Cap |         Memory-Usage | GPU-Util  Compute M. |\n",
            "|                                         |                      |               MIG M. |\n",
            "|=========================================+======================+======================|\n",
            "|   0  NVIDIA GeForce RTX 3090        Off | 00000000:1A:00.0 Off |                  N/A |\n",
            "| 30%   40C    P0             106W / 350W |      0MiB / 24576MiB |      0%      Default |\n",
            "|                                         |                      |                  N/A |\n",
            "+-----------------------------------------+----------------------+----------------------+\n",
            "|   1  NVIDIA GeForce RTX 3090        Off | 00000000:67:00.0 Off |                  N/A |\n",
            "| 30%   48C    P0             108W / 350W |      0MiB / 24576MiB |      0%      Default |\n",
            "|                                         |                      |                  N/A |\n",
            "+-----------------------------------------+----------------------+----------------------+\n",
            "|   2  NVIDIA GeForce RTX 3090        Off | 00000000:68:00.0 Off |                  N/A |\n",
            "| 30%   45C    P0              98W / 350W |      0MiB / 24576MiB |      0%      Default |\n",
            "|                                         |                      |                  N/A |\n",
            "+-----------------------------------------+----------------------+----------------------+\n",
            "                                                                                         \n",
            "+---------------------------------------------------------------------------------------+\n",
            "| Processes:                                                                            |\n",
            "|  GPU   GI   CI        PID   Type   Process name                            GPU Memory |\n",
            "|        ID   ID                                                             Usage      |\n",
            "|=======================================================================================|\n",
            "|  No running processes found                                                           |\n",
            "+---------------------------------------------------------------------------------------+\n"
          ]
        }
      ],
      "source": [
        "# Check for GPU\n",
        "!nvidia-smi"
      ]
    },
    {
      "cell_type": "code",
      "execution_count": 4,
      "metadata": {
        "colab": {
          "base_uri": "https://localhost:8080/",
          "height": 53
        },
        "id": "DNwZLMbCzJLk",
        "outputId": "9c150c50-a092-4f34-9d33-b45247fb080d"
      },
      "outputs": [
        {
          "name": "stdout",
          "output_type": "stream",
          "text": [
            "2.3.1+cu118\n"
          ]
        }
      ],
      "source": [
        "# Import torch\n",
        "import torch\n",
        "\n",
        "# Exercises require PyTorch > 1.10.0\n",
        "print(torch.__version__)\n",
        "\n",
        "# TODO: Setup device agnostic code\n"
      ]
    },
    {
      "cell_type": "markdown",
      "metadata": {
        "id": "FSFX7tc1w-en"
      },
      "source": [
        "## 1. What are 3 areas in industry where computer vision is currently being used?"
      ]
    },
    {
      "cell_type": "markdown",
      "metadata": {},
      "source": [
        "1. 自动驾驶汽车\n",
        "\n",
        "2. 医疗影像\n",
        "\n",
        "3. 安全，计算机视觉可以用来检测是否有人正在侵入您家。 "
      ]
    },
    {
      "cell_type": "markdown",
      "metadata": {
        "id": "oBK-WI6YxDYa"
      },
      "source": [
        "## 2. Search \"what is overfitting in machine learning\" and write down a sentence about what you find. "
      ]
    },
    {
      "cell_type": "markdown",
      "metadata": {},
      "source": [
        "过拟合的意思是，过于精确地训练数据，而这些模式无法推广到从未见过的数据。"
      ]
    },
    {
      "cell_type": "markdown",
      "metadata": {
        "id": "XeYFEqw8xK26"
      },
      "source": [
        "## 3. Search \"ways to prevent overfitting in machine learning\", write down 3 of the things you find and a sentence about each. \n",
        "> **Note:** there are lots of these, so don't worry too much about all of them, just pick 3 and start with those."
      ]
    },
    {
      "cell_type": "markdown",
      "metadata": {},
      "source": [
        "1. 使用正则化技术 - 使用Dropout，随机丢弃不同层中的神经元，以便剩余的神经元希望学习到更强健的权重。\n",
        "\n",
        "2. 使用不同的模型 - 去掉一些层或者选择一个完全不同的模型。\n",
        "\n",
        "3. 减少数据中的噪声、清理数据集等等。 "
      ]
    },
    {
      "cell_type": "markdown",
      "metadata": {
        "id": "DKdEEFEqxM-8"
      },
      "source": [
        "## 4. Spend 20-minutes reading and clicking through the [CNN Explainer website](https://poloclub.github.io/cnn-explainer/).\n",
        "\n",
        "* Upload your own example image using the \"upload\" button on the website and see what happens in each layer of a CNN as your image passes through it."
      ]
    },
    {
      "cell_type": "code",
      "execution_count": 5,
      "metadata": {
        "id": "TqZaJIRMbFtS"
      },
      "outputs": [],
      "source": [
        "# Done！"
      ]
    },
    {
      "cell_type": "markdown",
      "metadata": {
        "id": "lvf-3pODxXYI"
      },
      "source": [
        "## 5. Load the [`torchvision.datasets.MNIST()`](https://pytorch.org/vision/stable/generated/torchvision.datasets.MNIST.html#torchvision.datasets.MNIST) train and test datasets."
      ]
    },
    {
      "cell_type": "code",
      "execution_count": 6,
      "metadata": {
        "id": "SHjeuN81bHza"
      },
      "outputs": [],
      "source": [
        "# 导包\n",
        "import torchvision\n",
        "from torchvision import datasets\n",
        "from torchvision import transforms"
      ]
    },
    {
      "cell_type": "code",
      "execution_count": 7,
      "metadata": {},
      "outputs": [],
      "source": [
        "# 得到MNIST训练数据集\n",
        "train_data = datasets.MNIST(\n",
        "    root='.',\n",
        "    train=True,\n",
        "    download=True,\n",
        "    transform=transforms.ToTensor()\n",
        ")# 在下载数据集的时候，对它进行转换。\n",
        "\n",
        "test_data = datasets.MNIST(\n",
        "    root=\".\",\n",
        "    train=False,\n",
        "    download=True,\n",
        "    transform=transforms.ToTensor()\n",
        ")"
      ]
    },
    {
      "cell_type": "code",
      "execution_count": 8,
      "metadata": {},
      "outputs": [
        {
          "data": {
            "text/plain": [
              "(Dataset MNIST\n",
              "     Number of datapoints: 60000\n",
              "     Root location: .\n",
              "     Split: Train\n",
              "     StandardTransform\n",
              " Transform: ToTensor(),\n",
              " Dataset MNIST\n",
              "     Number of datapoints: 10000\n",
              "     Root location: .\n",
              "     Split: Test\n",
              "     StandardTransform\n",
              " Transform: ToTensor())"
            ]
          },
          "execution_count": 8,
          "metadata": {},
          "output_type": "execute_result"
        }
      ],
      "source": [
        "train_data, test_data"
      ]
    },
    {
      "cell_type": "code",
      "execution_count": 9,
      "metadata": {},
      "outputs": [
        {
          "data": {
            "text/plain": [
              "(60000, 10000)"
            ]
          },
          "execution_count": 9,
          "metadata": {},
          "output_type": "execute_result"
        }
      ],
      "source": [
        "len(train_data), len(test_data)"
      ]
    },
    {
      "cell_type": "code",
      "execution_count": 10,
      "metadata": {},
      "outputs": [
        {
          "name": "stdout",
          "output_type": "stream",
          "text": [
            "Image : \n",
            " tensor([[[0.0000, 0.0000, 0.0000, 0.0000, 0.0000, 0.0000, 0.0000, 0.0000,\n",
            "          0.0000, 0.0000, 0.0000, 0.0000, 0.0000, 0.0000, 0.0000, 0.0000,\n",
            "          0.0000, 0.0000, 0.0000, 0.0000, 0.0000, 0.0000, 0.0000, 0.0000,\n",
            "          0.0000, 0.0000, 0.0000, 0.0000],\n",
            "         [0.0000, 0.0000, 0.0000, 0.0000, 0.0000, 0.0000, 0.0000, 0.0000,\n",
            "          0.0000, 0.0000, 0.0000, 0.0000, 0.0000, 0.0000, 0.0000, 0.0000,\n",
            "          0.0000, 0.0000, 0.0000, 0.0000, 0.0000, 0.0000, 0.0000, 0.0000,\n",
            "          0.0000, 0.0000, 0.0000, 0.0000],\n",
            "         [0.0000, 0.0000, 0.0000, 0.0000, 0.0000, 0.0000, 0.0000, 0.0000,\n",
            "          0.0000, 0.0000, 0.0000, 0.0000, 0.0000, 0.0000, 0.0000, 0.0000,\n",
            "          0.0000, 0.0000, 0.0000, 0.0000, 0.0000, 0.0000, 0.0000, 0.0000,\n",
            "          0.0000, 0.0000, 0.0000, 0.0000],\n",
            "         [0.0000, 0.0000, 0.0000, 0.0000, 0.0000, 0.0000, 0.0000, 0.0000,\n",
            "          0.0000, 0.0000, 0.0000, 0.0000, 0.0000, 0.0000, 0.0000, 0.0000,\n",
            "          0.0000, 0.0000, 0.0000, 0.0000, 0.0000, 0.0000, 0.0000, 0.0000,\n",
            "          0.0000, 0.0000, 0.0000, 0.0000],\n",
            "         [0.0000, 0.0000, 0.0000, 0.0000, 0.0000, 0.0000, 0.0000, 0.0000,\n",
            "          0.0000, 0.0000, 0.0000, 0.0000, 0.0000, 0.0000, 0.0000, 0.0000,\n",
            "          0.0000, 0.0000, 0.0000, 0.0000, 0.0000, 0.0000, 0.0000, 0.0000,\n",
            "          0.0000, 0.0000, 0.0000, 0.0000],\n",
            "         [0.0000, 0.0000, 0.0000, 0.0000, 0.0000, 0.0000, 0.0000, 0.0000,\n",
            "          0.0000, 0.0000, 0.0000, 0.0000, 0.0118, 0.0706, 0.0706, 0.0706,\n",
            "          0.4941, 0.5333, 0.6863, 0.1020, 0.6510, 1.0000, 0.9686, 0.4980,\n",
            "          0.0000, 0.0000, 0.0000, 0.0000],\n",
            "         [0.0000, 0.0000, 0.0000, 0.0000, 0.0000, 0.0000, 0.0000, 0.0000,\n",
            "          0.1176, 0.1412, 0.3686, 0.6039, 0.6667, 0.9922, 0.9922, 0.9922,\n",
            "          0.9922, 0.9922, 0.8824, 0.6745, 0.9922, 0.9490, 0.7647, 0.2510,\n",
            "          0.0000, 0.0000, 0.0000, 0.0000],\n",
            "         [0.0000, 0.0000, 0.0000, 0.0000, 0.0000, 0.0000, 0.0000, 0.1922,\n",
            "          0.9333, 0.9922, 0.9922, 0.9922, 0.9922, 0.9922, 0.9922, 0.9922,\n",
            "          0.9922, 0.9843, 0.3647, 0.3216, 0.3216, 0.2196, 0.1529, 0.0000,\n",
            "          0.0000, 0.0000, 0.0000, 0.0000],\n",
            "         [0.0000, 0.0000, 0.0000, 0.0000, 0.0000, 0.0000, 0.0000, 0.0706,\n",
            "          0.8588, 0.9922, 0.9922, 0.9922, 0.9922, 0.9922, 0.7765, 0.7137,\n",
            "          0.9686, 0.9451, 0.0000, 0.0000, 0.0000, 0.0000, 0.0000, 0.0000,\n",
            "          0.0000, 0.0000, 0.0000, 0.0000],\n",
            "         [0.0000, 0.0000, 0.0000, 0.0000, 0.0000, 0.0000, 0.0000, 0.0000,\n",
            "          0.3137, 0.6118, 0.4196, 0.9922, 0.9922, 0.8039, 0.0431, 0.0000,\n",
            "          0.1686, 0.6039, 0.0000, 0.0000, 0.0000, 0.0000, 0.0000, 0.0000,\n",
            "          0.0000, 0.0000, 0.0000, 0.0000],\n",
            "         [0.0000, 0.0000, 0.0000, 0.0000, 0.0000, 0.0000, 0.0000, 0.0000,\n",
            "          0.0000, 0.0549, 0.0039, 0.6039, 0.9922, 0.3529, 0.0000, 0.0000,\n",
            "          0.0000, 0.0000, 0.0000, 0.0000, 0.0000, 0.0000, 0.0000, 0.0000,\n",
            "          0.0000, 0.0000, 0.0000, 0.0000],\n",
            "         [0.0000, 0.0000, 0.0000, 0.0000, 0.0000, 0.0000, 0.0000, 0.0000,\n",
            "          0.0000, 0.0000, 0.0000, 0.5451, 0.9922, 0.7451, 0.0078, 0.0000,\n",
            "          0.0000, 0.0000, 0.0000, 0.0000, 0.0000, 0.0000, 0.0000, 0.0000,\n",
            "          0.0000, 0.0000, 0.0000, 0.0000],\n",
            "         [0.0000, 0.0000, 0.0000, 0.0000, 0.0000, 0.0000, 0.0000, 0.0000,\n",
            "          0.0000, 0.0000, 0.0000, 0.0431, 0.7451, 0.9922, 0.2745, 0.0000,\n",
            "          0.0000, 0.0000, 0.0000, 0.0000, 0.0000, 0.0000, 0.0000, 0.0000,\n",
            "          0.0000, 0.0000, 0.0000, 0.0000],\n",
            "         [0.0000, 0.0000, 0.0000, 0.0000, 0.0000, 0.0000, 0.0000, 0.0000,\n",
            "          0.0000, 0.0000, 0.0000, 0.0000, 0.1373, 0.9451, 0.8824, 0.6275,\n",
            "          0.4235, 0.0039, 0.0000, 0.0000, 0.0000, 0.0000, 0.0000, 0.0000,\n",
            "          0.0000, 0.0000, 0.0000, 0.0000],\n",
            "         [0.0000, 0.0000, 0.0000, 0.0000, 0.0000, 0.0000, 0.0000, 0.0000,\n",
            "          0.0000, 0.0000, 0.0000, 0.0000, 0.0000, 0.3176, 0.9412, 0.9922,\n",
            "          0.9922, 0.4667, 0.0980, 0.0000, 0.0000, 0.0000, 0.0000, 0.0000,\n",
            "          0.0000, 0.0000, 0.0000, 0.0000],\n",
            "         [0.0000, 0.0000, 0.0000, 0.0000, 0.0000, 0.0000, 0.0000, 0.0000,\n",
            "          0.0000, 0.0000, 0.0000, 0.0000, 0.0000, 0.0000, 0.1765, 0.7294,\n",
            "          0.9922, 0.9922, 0.5882, 0.1059, 0.0000, 0.0000, 0.0000, 0.0000,\n",
            "          0.0000, 0.0000, 0.0000, 0.0000],\n",
            "         [0.0000, 0.0000, 0.0000, 0.0000, 0.0000, 0.0000, 0.0000, 0.0000,\n",
            "          0.0000, 0.0000, 0.0000, 0.0000, 0.0000, 0.0000, 0.0000, 0.0627,\n",
            "          0.3647, 0.9882, 0.9922, 0.7333, 0.0000, 0.0000, 0.0000, 0.0000,\n",
            "          0.0000, 0.0000, 0.0000, 0.0000],\n",
            "         [0.0000, 0.0000, 0.0000, 0.0000, 0.0000, 0.0000, 0.0000, 0.0000,\n",
            "          0.0000, 0.0000, 0.0000, 0.0000, 0.0000, 0.0000, 0.0000, 0.0000,\n",
            "          0.0000, 0.9765, 0.9922, 0.9765, 0.2510, 0.0000, 0.0000, 0.0000,\n",
            "          0.0000, 0.0000, 0.0000, 0.0000],\n",
            "         [0.0000, 0.0000, 0.0000, 0.0000, 0.0000, 0.0000, 0.0000, 0.0000,\n",
            "          0.0000, 0.0000, 0.0000, 0.0000, 0.0000, 0.0000, 0.1804, 0.5098,\n",
            "          0.7176, 0.9922, 0.9922, 0.8118, 0.0078, 0.0000, 0.0000, 0.0000,\n",
            "          0.0000, 0.0000, 0.0000, 0.0000],\n",
            "         [0.0000, 0.0000, 0.0000, 0.0000, 0.0000, 0.0000, 0.0000, 0.0000,\n",
            "          0.0000, 0.0000, 0.0000, 0.0000, 0.1529, 0.5804, 0.8980, 0.9922,\n",
            "          0.9922, 0.9922, 0.9804, 0.7137, 0.0000, 0.0000, 0.0000, 0.0000,\n",
            "          0.0000, 0.0000, 0.0000, 0.0000],\n",
            "         [0.0000, 0.0000, 0.0000, 0.0000, 0.0000, 0.0000, 0.0000, 0.0000,\n",
            "          0.0000, 0.0000, 0.0941, 0.4471, 0.8667, 0.9922, 0.9922, 0.9922,\n",
            "          0.9922, 0.7882, 0.3059, 0.0000, 0.0000, 0.0000, 0.0000, 0.0000,\n",
            "          0.0000, 0.0000, 0.0000, 0.0000],\n",
            "         [0.0000, 0.0000, 0.0000, 0.0000, 0.0000, 0.0000, 0.0000, 0.0000,\n",
            "          0.0902, 0.2588, 0.8353, 0.9922, 0.9922, 0.9922, 0.9922, 0.7765,\n",
            "          0.3176, 0.0078, 0.0000, 0.0000, 0.0000, 0.0000, 0.0000, 0.0000,\n",
            "          0.0000, 0.0000, 0.0000, 0.0000],\n",
            "         [0.0000, 0.0000, 0.0000, 0.0000, 0.0000, 0.0000, 0.0706, 0.6706,\n",
            "          0.8588, 0.9922, 0.9922, 0.9922, 0.9922, 0.7647, 0.3137, 0.0353,\n",
            "          0.0000, 0.0000, 0.0000, 0.0000, 0.0000, 0.0000, 0.0000, 0.0000,\n",
            "          0.0000, 0.0000, 0.0000, 0.0000],\n",
            "         [0.0000, 0.0000, 0.0000, 0.0000, 0.2157, 0.6745, 0.8863, 0.9922,\n",
            "          0.9922, 0.9922, 0.9922, 0.9569, 0.5216, 0.0431, 0.0000, 0.0000,\n",
            "          0.0000, 0.0000, 0.0000, 0.0000, 0.0000, 0.0000, 0.0000, 0.0000,\n",
            "          0.0000, 0.0000, 0.0000, 0.0000],\n",
            "         [0.0000, 0.0000, 0.0000, 0.0000, 0.5333, 0.9922, 0.9922, 0.9922,\n",
            "          0.8314, 0.5294, 0.5176, 0.0627, 0.0000, 0.0000, 0.0000, 0.0000,\n",
            "          0.0000, 0.0000, 0.0000, 0.0000, 0.0000, 0.0000, 0.0000, 0.0000,\n",
            "          0.0000, 0.0000, 0.0000, 0.0000],\n",
            "         [0.0000, 0.0000, 0.0000, 0.0000, 0.0000, 0.0000, 0.0000, 0.0000,\n",
            "          0.0000, 0.0000, 0.0000, 0.0000, 0.0000, 0.0000, 0.0000, 0.0000,\n",
            "          0.0000, 0.0000, 0.0000, 0.0000, 0.0000, 0.0000, 0.0000, 0.0000,\n",
            "          0.0000, 0.0000, 0.0000, 0.0000],\n",
            "         [0.0000, 0.0000, 0.0000, 0.0000, 0.0000, 0.0000, 0.0000, 0.0000,\n",
            "          0.0000, 0.0000, 0.0000, 0.0000, 0.0000, 0.0000, 0.0000, 0.0000,\n",
            "          0.0000, 0.0000, 0.0000, 0.0000, 0.0000, 0.0000, 0.0000, 0.0000,\n",
            "          0.0000, 0.0000, 0.0000, 0.0000],\n",
            "         [0.0000, 0.0000, 0.0000, 0.0000, 0.0000, 0.0000, 0.0000, 0.0000,\n",
            "          0.0000, 0.0000, 0.0000, 0.0000, 0.0000, 0.0000, 0.0000, 0.0000,\n",
            "          0.0000, 0.0000, 0.0000, 0.0000, 0.0000, 0.0000, 0.0000, 0.0000,\n",
            "          0.0000, 0.0000, 0.0000, 0.0000]]])\n",
            "Label : \n",
            " 5\n"
          ]
        }
      ],
      "source": [
        "# Data is in tuple from (image, label)\n",
        "img = train_data[0][0]\n",
        "label = train_data[0][1]\n",
        "print(f\"Image : \\n {img}\")\n",
        "print(f\"Label : \\n {label}\")"
      ]
    },
    {
      "cell_type": "code",
      "execution_count": 11,
      "metadata": {},
      "outputs": [
        {
          "name": "stdout",
          "output_type": "stream",
          "text": [
            "Image shape : torch.Size([1, 28, 28]) -> [C, H, W]\n",
            "Label: 5 -> int\n"
          ]
        }
      ],
      "source": [
        "# 查看数据形状\n",
        "print(f\"Image shape : {img.shape} -> [C, H, W]\")\n",
        "print(f\"Label: {label} -> int\")"
      ]
    },
    {
      "cell_type": "code",
      "execution_count": 12,
      "metadata": {},
      "outputs": [
        {
          "data": {
            "text/plain": [
              "['0 - zero',\n",
              " '1 - one',\n",
              " '2 - two',\n",
              " '3 - three',\n",
              " '4 - four',\n",
              " '5 - five',\n",
              " '6 - six',\n",
              " '7 - seven',\n",
              " '8 - eight',\n",
              " '9 - nine']"
            ]
          },
          "execution_count": 12,
          "metadata": {},
          "output_type": "execute_result"
        }
      ],
      "source": [
        "# 查看数据集的类别\n",
        "class_names = train_data.classes\n",
        "class_names"
      ]
    },
    {
      "cell_type": "markdown",
      "metadata": {
        "id": "qxZW-uAbxe_F"
      },
      "source": [
        "## 6. Visualize at least 5 different samples of the MNIST training dataset."
      ]
    },
    {
      "cell_type": "code",
      "execution_count": 13,
      "metadata": {
        "id": "QVFsYi1PbItE"
      },
      "outputs": [
        {
          "name": "stdout",
          "output_type": "stream",
          "text": [
            "torch.Size([1, 28, 28])\n",
            "torch.Size([28, 28])\n",
            "torch.Size([1, 28, 28])\n",
            "torch.Size([28, 28])\n",
            "torch.Size([1, 28, 28])\n",
            "torch.Size([28, 28])\n",
            "torch.Size([1, 28, 28])\n",
            "torch.Size([28, 28])\n",
            "torch.Size([1, 28, 28])\n",
            "torch.Size([28, 28])\n"
          ]
        },
        {
          "data": {
            "image/png": "[encoded data removed]",
            "text/plain": [
              "<Figure size 400x400 with 1 Axes>"
            ]
          },
          "metadata": {},
          "output_type": "display_data"
        },
        {
          "data": {
            "image/png": "[encoded data removed]",
            "text/plain": [
              "<Figure size 400x400 with 1 Axes>"
            ]
          },
          "metadata": {},
          "output_type": "display_data"
        },
        {
          "data": {
            "image/png": "[encoded data removed]",
            "text/plain": [
              "<Figure size 400x400 with 1 Axes>"
            ]
          },
          "metadata": {},
          "output_type": "display_data"
        },
        {
          "data": {
            "image/png": "[encoded data removed]",
            "text/plain": [
              "<Figure size 400x400 with 1 Axes>"
            ]
          },
          "metadata": {},
          "output_type": "display_data"
        },
        {
          "data": {
            "image/png": "[encoded data removed]",
            "text/plain": [
              "<Figure size 400x400 with 1 Axes>"
            ]
          },
          "metadata": {},
          "output_type": "display_data"
        }
      ],
      "source": [
        "# 导入 matplotlib.pyplot 库，并将其命名为 plt\n",
        "import matplotlib.pyplot as plt\n",
        "\n",
        "# 开始一个 for 循环，循环变量 i 从 0 到 4（共循环 5 次）\n",
        "for i in range(5):\n",
        "    # 从 train_data 中获取第 i 个样本的图像数据\n",
        "    img = train_data[i][0]\n",
        "    # 打印图像数据的形状\n",
        "    print(img.shape)\n",
        "    # 去除图像数据中大小为 1 的维度\n",
        "    img_squeeze = img.squeeze()\n",
        "    # 打印去除单维后图像数据的形状\n",
        "    print(img_squeeze.shape)\n",
        "    # 从 train_data 中获取第 i 个样本的标签数据\n",
        "    label = train_data[i][1]\n",
        "    # 创建一个新的图形对象，设置其大小为 4x4 英寸\n",
        "    plt.figure(figsize=(4,4))\n",
        "    # 使用 imshow 方法显示图像，cmap='gray' 表示使用灰度颜色映射\n",
        "    plt.imshow(img_squeeze, cmap='gray')\n",
        "    # 设置图形的标题为当前图像的标签\n",
        "    plt.title(label)\n",
        "    # 隐藏图形的坐标轴\n",
        "    plt.axis(False)\n"
      ]
    },
    {
      "cell_type": "markdown",
      "metadata": {
        "id": "JAPDzW0wxhi3"
      },
      "source": [
        "## 7. Turn the MNIST train and test datasets into dataloaders using `torch.utils.data.DataLoader`, set the `batch_size=32`."
      ]
    },
    {
      "cell_type": "code",
      "execution_count": 14,
      "metadata": {
        "id": "ALA6MPcFbJXQ"
      },
      "outputs": [],
      "source": [
        "# Create train dataloader\n",
        "# 导入DataLoader类，用于加载数据\n",
        "from torch.utils.data import DataLoader\n",
        "\n",
        "# 创建训练数据加载器对象，指定数据集、批次大小和是否打乱数据顺序\n",
        "train_dataloader = DataLoader(dataset=train_data,\n",
        "                              batch_size=32,  # 每个批次包含32个样本\n",
        "                              shuffle=True)  # 在每个epoch开始时打乱数据顺序\n",
        "\n",
        "# 创建测试数据加载器对象，指定数据集、批次大小和是否打乱数据顺序\n",
        "test_dataloader = DataLoader(dataset=test_data,\n",
        "                             batch_size=32,  # 每个批次包含32个样本\n",
        "                             shuffle=False) # 在每个epoch开始时不打乱数据顺序\n"
      ]
    },
    {
      "cell_type": "code",
      "execution_count": 15,
      "metadata": {},
      "outputs": [
        {
          "data": {
            "text/plain": [
              "(<torch.utils.data.dataloader.DataLoader at 0x7fdb1b387d40>,\n",
              " <torch.utils.data.dataloader.DataLoader at 0x7fdb324e0a10>)"
            ]
          },
          "execution_count": 15,
          "metadata": {},
          "output_type": "execute_result"
        }
      ],
      "source": [
        "train_dataloader, test_dataloader"
      ]
    },
    {
      "cell_type": "code",
      "execution_count": 18,
      "metadata": {},
      "outputs": [
        {
          "name": "stdout",
          "output_type": "stream",
          "text": [
            "torch.Size([32, 1, 28, 28])\n",
            "torch.Size([32])\n"
          ]
        }
      ],
      "source": [
        "for sample in next(iter(train_dataloader)):\n",
        "  print(sample.shape)"
      ]
    },
    {
      "cell_type": "code",
      "execution_count": 19,
      "metadata": {},
      "outputs": [
        {
          "data": {
            "text/plain": [
              "(1875, 313)"
            ]
          },
          "execution_count": 19,
          "metadata": {},
          "output_type": "execute_result"
        }
      ],
      "source": [
        "# 查看长度\n",
        "len(train_dataloader), len(test_dataloader)"
      ]
    },
    {
      "cell_type": "markdown",
      "metadata": {
        "id": "bCCVfXk5xjYS"
      },
      "source": [
        "## 8. Recreate `model_2` used in notebook 03 (the same model from the [CNN Explainer website](https://poloclub.github.io/cnn-explainer/), also known as TinyVGG) capable of fitting on the MNIST dataset."
      ]
    },
    {
      "cell_type": "code",
      "execution_count": 20,
      "metadata": {
        "id": "5IKNF22XbKYS"
      },
      "outputs": [],
      "source": [
        "from torch import nn\n",
        "class MNIST_model(nn.Module):\n",
        "    def __init__(self, input_shape: int, hidden_units: int, output_shape: int):\n",
        "        super().__init__()\n",
        "        self.conv_block_1 = nn.Sequential(\n",
        "            nn.Conv2d(in_channels=input_shape,\n",
        "                      out_channels=hidden_units,\n",
        "                      kernel_size=3,\n",
        "                      stride=1,\n",
        "                      padding=1),\n",
        "            nn.ReLU(),\n",
        "            nn.Conv2d(in_channels=hidden_units,\n",
        "                      out_channels=hidden_units,\n",
        "                      kernel_size=3,\n",
        "                      stride=1,\n",
        "                      padding=1),\n",
        "            nn.ReLU(),\n",
        "            nn.MaxPool2d(kernel_size=2)\n",
        "        )\n",
        "        self.conv_block_2 = nn.Sequential(\n",
        "            nn.Conv2d(in_channels=hidden_units,\n",
        "                      out_channels=hidden_units,\n",
        "                      kernel_size=3, \n",
        "                      stride=1,\n",
        "                      padding=1),\n",
        "            nn.ReLU(),\n",
        "            nn.Conv2d(in_channels=hidden_units,\n",
        "                      out_channels=hidden_units,\n",
        "                      kernel_size=3, \n",
        "                      stride=1, \n",
        "                      padding=1),\n",
        "            nn.ReLU(),\n",
        "            nn.MaxPool2d(kernel_size=2)\n",
        "        )\n",
        "        self.classifier = nn.Sequential(\n",
        "            nn.Flatten(),\n",
        "            nn.Linear(in_features=hidden_units*7*7,\n",
        "                      out_features=output_shape)\n",
        "        )\n",
        "\n",
        "    def forward(self, x):\n",
        "        x = self.conv_block_1(x)\n",
        "        x = self.conv_block_2(x)\n",
        "        x = self.classifier(x)\n",
        "        return x\n"
      ]
    },
    {
      "cell_type": "code",
      "execution_count": 22,
      "metadata": {},
      "outputs": [
        {
          "data": {
            "text/plain": [
              "'cuda'"
            ]
          },
          "execution_count": 22,
          "metadata": {},
          "output_type": "execute_result"
        }
      ],
      "source": [
        "device = \"cuda\" if torch.cuda.is_available() else \"cpu\"\n",
        "device"
      ]
    },
    {
      "cell_type": "code",
      "execution_count": 23,
      "metadata": {},
      "outputs": [
        {
          "data": {
            "text/plain": [
              "MNIST_model(\n",
              "  (conv_block_1): Sequential(\n",
              "    (0): Conv2d(1, 10, kernel_size=(3, 3), stride=(1, 1), padding=(1, 1))\n",
              "    (1): ReLU()\n",
              "    (2): Conv2d(10, 10, kernel_size=(3, 3), stride=(1, 1), padding=(1, 1))\n",
              "    (3): ReLU()\n",
              "    (4): MaxPool2d(kernel_size=2, stride=2, padding=0, dilation=1, ceil_mode=False)\n",
              "  )\n",
              "  (conv_block_2): Sequential(\n",
              "    (0): Conv2d(10, 10, kernel_size=(3, 3), stride=(1, 1), padding=(1, 1))\n",
              "    (1): ReLU()\n",
              "    (2): Conv2d(10, 10, kernel_size=(3, 3), stride=(1, 1), padding=(1, 1))\n",
              "    (3): ReLU()\n",
              "    (4): MaxPool2d(kernel_size=2, stride=2, padding=0, dilation=1, ceil_mode=False)\n",
              "  )\n",
              "  (classifier): Sequential(\n",
              "    (0): Flatten(start_dim=1, end_dim=-1)\n",
              "    (1): Linear(in_features=490, out_features=10, bias=True)\n",
              "  )\n",
              ")"
            ]
          },
          "execution_count": 23,
          "metadata": {},
          "output_type": "execute_result"
        }
      ],
      "source": [
        "model = MNIST_model(\n",
        "    input_shape=1,\n",
        "    hidden_units=10, \n",
        "    output_shape=10\n",
        ").to(device)\n",
        "\n",
        "model"
      ]
    },
    {
      "cell_type": "code",
      "execution_count": 24,
      "metadata": {},
      "outputs": [
        {
          "data": {
            "text/plain": [
              "OrderedDict([('conv_block_1.0.weight',\n",
              "              tensor([[[[ 0.2624, -0.0880,  0.1037],\n",
              "                        [ 0.2127, -0.2717, -0.1396],\n",
              "                        [ 0.0622,  0.2296, -0.2763]]],\n",
              "              \n",
              "              \n",
              "                      [[[-0.0476,  0.1092, -0.0630],\n",
              "                        [ 0.1411, -0.0736, -0.1979],\n",
              "                        [ 0.1091, -0.2097, -0.1156]]],\n",
              "              \n",
              "              \n",
              "                      [[[ 0.1959, -0.3255, -0.0448],\n",
              "                        [-0.0577, -0.1377, -0.0623],\n",
              "                        [-0.0760,  0.1360, -0.1577]]],\n",
              "              \n",
              "              \n",
              "                      [[[-0.1925,  0.1603, -0.2945],\n",
              "                        [ 0.1367, -0.2639, -0.1740],\n",
              "                        [-0.1695,  0.1996, -0.2615]]],\n",
              "              \n",
              "              \n",
              "                      [[[ 0.2034, -0.2588, -0.2224],\n",
              "                        [-0.1952, -0.2956, -0.0789],\n",
              "                        [-0.3184, -0.3082,  0.3327]]],\n",
              "              \n",
              "              \n",
              "                      [[[-0.0728,  0.0426, -0.1509],\n",
              "                        [ 0.1051,  0.0117, -0.1297],\n",
              "                        [-0.2240,  0.1356, -0.1937]]],\n",
              "              \n",
              "              \n",
              "                      [[[ 0.2497,  0.1182, -0.2540],\n",
              "                        [ 0.2315, -0.1362,  0.1782],\n",
              "                        [-0.1782, -0.2262, -0.2729]]],\n",
              "              \n",
              "              \n",
              "                      [[[-0.0654, -0.2224, -0.0362],\n",
              "                        [ 0.2145, -0.2169, -0.1788],\n",
              "                        [ 0.2895, -0.3074, -0.1758]]],\n",
              "              \n",
              "              \n",
              "                      [[[ 0.0813,  0.3109,  0.0706],\n",
              "                        [ 0.3125, -0.2998, -0.2231],\n",
              "                        [ 0.2409,  0.1507,  0.1568]]],\n",
              "              \n",
              "              \n",
              "                      [[[-0.0958, -0.3247, -0.0627],\n",
              "                        [ 0.1234,  0.2914,  0.2541],\n",
              "                        [ 0.2994,  0.2719,  0.0196]]]], device='cuda:0')),\n",
              "             ('conv_block_1.0.bias',\n",
              "              tensor([ 0.1140, -0.1860, -0.2347,  0.1910, -0.1514, -0.2582, -0.2241, -0.2047,\n",
              "                      -0.0663, -0.2155], device='cuda:0')),\n",
              "             ('conv_block_1.2.weight',\n",
              "              tensor([[[[-7.7974e-02, -1.0454e-01, -5.2346e-02],\n",
              "                        [-1.0485e-01,  9.7300e-02, -1.2028e-02],\n",
              "                        [ 5.3772e-02, -9.9726e-02, -5.8062e-02]],\n",
              "              \n",
              "                       [[-2.9372e-02, -7.4714e-02, -3.8127e-02],\n",
              "                        [-3.2730e-03,  6.0991e-02,  8.0222e-02],\n",
              "                        [ 1.0466e-01, -1.3910e-02,  2.7502e-02]],\n",
              "              \n",
              "                       [[-6.8777e-02, -1.9412e-02,  1.3420e-03],\n",
              "                        [-2.6167e-02,  7.6034e-02, -4.6526e-02],\n",
              "                        [-4.2856e-02,  4.2478e-02, -7.8213e-02]],\n",
              "              \n",
              "                       [[-4.1325e-02,  1.1271e-02,  1.9326e-02],\n",
              "                        [ 8.5085e-02, -5.3811e-02,  2.9894e-02],\n",
              "                        [ 1.0463e-01, -8.8224e-02, -3.9762e-03]],\n",
              "              \n",
              "                       [[ 1.0160e-01, -4.1117e-02, -4.7054e-02],\n",
              "                        [ 2.4091e-02,  8.3239e-03, -8.9729e-02],\n",
              "                        [-2.4703e-02, -4.0208e-02,  2.3026e-02]],\n",
              "              \n",
              "                       [[ 3.5833e-02,  7.8964e-02, -1.4642e-02],\n",
              "                        [-1.8507e-02, -9.7419e-02, -3.3441e-02],\n",
              "                        [-6.9893e-02, -5.4675e-02,  4.1923e-02]],\n",
              "              \n",
              "                       [[ 2.6986e-02, -4.2584e-02, -3.5114e-02],\n",
              "                        [ 1.0080e-01, -5.4899e-02,  7.6645e-02],\n",
              "                        [-1.2118e-02,  3.4994e-02, -6.1928e-02]],\n",
              "              \n",
              "                       [[ 6.4341e-02, -7.7397e-02,  1.7903e-02],\n",
              "                        [-4.1586e-04, -9.4096e-02, -5.3656e-02],\n",
              "                        [-4.9913e-02, -6.4549e-02, -1.0142e-01]],\n",
              "              \n",
              "                       [[ 7.9598e-02,  8.8271e-02,  6.0099e-02],\n",
              "                        [ 7.3969e-02,  5.6892e-02, -3.4923e-02],\n",
              "                        [ 1.6515e-02, -2.1277e-02, -9.4329e-02]],\n",
              "              \n",
              "                       [[ 1.1466e-02, -8.8837e-02, -5.6555e-02],\n",
              "                        [-9.5311e-02, -5.8399e-02, -1.9352e-02],\n",
              "                        [-3.9051e-04,  6.3177e-02,  6.9502e-02]]],\n",
              "              \n",
              "              \n",
              "                      [[[-8.0363e-02, -7.5441e-03, -1.0232e-01],\n",
              "                        [-4.3347e-02,  1.0183e-01, -1.2994e-02],\n",
              "                        [-9.9401e-02,  6.9184e-02, -3.0819e-02]],\n",
              "              \n",
              "                       [[ 4.5407e-02,  3.3552e-03,  4.2534e-02],\n",
              "                        [-2.1747e-02, -4.5911e-02,  3.9172e-02],\n",
              "                        [ 2.2803e-03, -4.0068e-02,  2.1034e-03]],\n",
              "              \n",
              "                       [[ 5.1555e-02,  7.2684e-02,  5.5787e-02],\n",
              "                        [-5.6547e-04, -8.7895e-02, -8.8988e-02],\n",
              "                        [-5.3138e-02, -3.1582e-02, -1.8190e-02]],\n",
              "              \n",
              "                       [[-5.1929e-02, -9.8757e-02,  5.5985e-02],\n",
              "                        [-3.6886e-03,  1.3812e-02, -9.9060e-02],\n",
              "                        [-8.7658e-02,  1.0369e-01,  5.3097e-02]],\n",
              "              \n",
              "                       [[-9.9506e-02, -1.2245e-02, -5.4115e-02],\n",
              "                        [ 3.1174e-02, -2.9601e-02,  3.4602e-02],\n",
              "                        [ 3.3119e-02,  3.3994e-02, -7.7858e-02]],\n",
              "              \n",
              "                       [[ 8.6110e-02, -6.5474e-02, -3.8032e-02],\n",
              "                        [ 6.7255e-02,  9.3526e-02,  1.9032e-02],\n",
              "                        [ 9.3585e-02,  9.2762e-03,  2.6882e-02]],\n",
              "              \n",
              "                       [[ 7.6095e-03, -7.7314e-02, -7.8349e-02],\n",
              "                        [-2.2143e-02, -7.7894e-02,  3.7300e-02],\n",
              "                        [-5.0792e-02, -1.5737e-02, -2.9902e-02]],\n",
              "              \n",
              "                       [[-7.9672e-02, -7.3140e-02, -1.3888e-02],\n",
              "                        [ 2.1492e-02,  3.1521e-02, -9.0198e-02],\n",
              "                        [ 6.3424e-03, -7.3041e-03,  7.7590e-02]],\n",
              "              \n",
              "                       [[ 8.4072e-02,  4.4306e-02,  6.7871e-02],\n",
              "                        [ 1.3183e-02, -4.0011e-02, -9.0079e-02],\n",
              "                        [ 9.2228e-02,  8.4354e-02, -7.3916e-02]],\n",
              "              \n",
              "                       [[ 5.2110e-02,  5.3969e-02,  1.4988e-02],\n",
              "                        [ 6.7454e-02, -4.1026e-02,  6.5499e-02],\n",
              "                        [-5.4452e-02,  4.4294e-02,  4.2911e-03]]],\n",
              "              \n",
              "              \n",
              "                      [[[ 3.3594e-02, -1.3725e-02,  2.7264e-02],\n",
              "                        [ 4.5964e-02, -5.5833e-02, -7.0709e-02],\n",
              "                        [-3.7219e-03,  5.8015e-02, -1.0357e-01]],\n",
              "              \n",
              "                       [[ 4.8320e-02, -5.3310e-02,  9.4617e-02],\n",
              "                        [-9.8902e-02, -1.2527e-03, -7.3562e-02],\n",
              "                        [-7.7467e-02,  9.1479e-02, -7.9799e-02]],\n",
              "              \n",
              "                       [[-1.0782e-03, -8.9584e-02,  8.4792e-02],\n",
              "                        [ 2.8187e-02, -6.7933e-02,  1.1653e-02],\n",
              "                        [ 8.3630e-04,  6.1763e-02, -7.2437e-03]],\n",
              "              \n",
              "                       [[ 7.1463e-02, -8.0758e-02, -7.4069e-02],\n",
              "                        [-9.0485e-02, -1.4283e-02,  3.0157e-02],\n",
              "                        [ 6.4474e-02, -7.6395e-02, -1.5359e-02]],\n",
              "              \n",
              "                       [[-8.8040e-02, -2.4769e-02,  6.2066e-02],\n",
              "                        [-9.2815e-02,  9.1077e-02,  2.4160e-02],\n",
              "                        [-5.4430e-02,  9.5665e-02,  2.1087e-02]],\n",
              "              \n",
              "                       [[ 7.7539e-03, -4.9612e-02,  5.2334e-02],\n",
              "                        [ 3.9657e-02,  8.1045e-02,  2.4898e-02],\n",
              "                        [ 1.9823e-02, -7.7429e-02, -9.1183e-02]],\n",
              "              \n",
              "                       [[-9.0529e-02, -8.4079e-02, -1.0294e-01],\n",
              "                        [-5.4326e-02, -3.5173e-02,  9.5756e-02],\n",
              "                        [-6.7920e-02, -1.4668e-02,  3.3222e-02]],\n",
              "              \n",
              "                       [[ 2.8025e-02, -7.5211e-02,  9.7177e-02],\n",
              "                        [ 1.0540e-01, -4.1440e-02,  9.5508e-02],\n",
              "                        [-7.3404e-02, -6.3967e-02, -6.6881e-03]],\n",
              "              \n",
              "                       [[ 6.4118e-02, -1.9962e-02, -2.7244e-02],\n",
              "                        [ 6.4012e-02, -1.7329e-02,  7.0140e-02],\n",
              "                        [-5.7242e-02,  3.4577e-02,  8.5065e-02]],\n",
              "              \n",
              "                       [[-1.1026e-02,  1.6036e-02, -4.6515e-02],\n",
              "                        [-6.2505e-02, -1.2834e-02,  3.2944e-02],\n",
              "                        [-6.8938e-02,  1.8933e-02, -2.0259e-02]]],\n",
              "              \n",
              "              \n",
              "                      [[[-5.1058e-02,  5.4877e-02,  7.0784e-02],\n",
              "                        [-9.5836e-02, -9.5249e-02, -8.7459e-02],\n",
              "                        [ 5.6721e-02, -8.1261e-02,  6.8439e-02]],\n",
              "              \n",
              "                       [[-9.4532e-02, -5.4595e-02, -6.3204e-02],\n",
              "                        [-5.7791e-02, -8.2202e-02,  1.4566e-02],\n",
              "                        [ 7.7397e-02, -7.3162e-02,  7.3690e-02]],\n",
              "              \n",
              "                       [[-3.9753e-02,  4.9992e-02, -1.7210e-02],\n",
              "                        [-6.4513e-02, -7.7987e-03,  8.8118e-02],\n",
              "                        [ 1.0431e-01, -7.2521e-02,  3.8534e-02]],\n",
              "              \n",
              "                       [[ 2.6296e-02,  8.9484e-02,  3.2959e-02],\n",
              "                        [-1.8870e-02, -3.4151e-02, -9.8227e-02],\n",
              "                        [-9.9030e-02, -9.0966e-02,  8.2111e-03]],\n",
              "              \n",
              "                       [[-8.5251e-02,  6.7115e-02, -3.2880e-02],\n",
              "                        [-3.5791e-02, -5.0472e-02, -3.7113e-02],\n",
              "                        [-7.7986e-02, -8.0230e-02,  8.9672e-02]],\n",
              "              \n",
              "                       [[ 2.1042e-02,  4.2698e-02, -6.8890e-02],\n",
              "                        [ 5.9737e-02,  5.4433e-02, -5.5553e-02],\n",
              "                        [-2.8035e-02, -7.3928e-02, -7.1473e-02]],\n",
              "              \n",
              "                       [[ 3.7747e-02, -2.5040e-02,  6.5455e-02],\n",
              "                        [-8.1364e-02,  2.1975e-02,  2.2568e-03],\n",
              "                        [-9.2494e-02, -6.8691e-02,  5.8593e-02]],\n",
              "              \n",
              "                       [[-6.3955e-02,  8.0829e-02,  1.9724e-02],\n",
              "                        [ 6.4539e-02,  4.2570e-02,  8.2313e-02],\n",
              "                        [-3.7651e-02, -9.0106e-02,  3.6905e-03]],\n",
              "              \n",
              "                       [[ 9.6449e-02, -3.3627e-02,  7.5188e-02],\n",
              "                        [ 1.7488e-02, -2.5993e-02,  2.2601e-02],\n",
              "                        [ 6.7495e-02,  6.5481e-02, -1.5205e-02]],\n",
              "              \n",
              "                       [[ 3.4400e-02,  7.0186e-02, -6.5634e-02],\n",
              "                        [ 1.6814e-02, -5.7206e-02, -1.0442e-01],\n",
              "                        [-8.7132e-02,  8.9584e-02, -8.4269e-02]]],\n",
              "              \n",
              "              \n",
              "                      [[[-4.8027e-02, -5.1490e-02,  7.4104e-02],\n",
              "                        [-7.7127e-02,  6.3360e-02, -1.0085e-01],\n",
              "                        [ 2.8148e-02,  1.9856e-02, -2.5467e-02]],\n",
              "              \n",
              "                       [[-4.5124e-02,  3.0763e-02, -9.5581e-02],\n",
              "                        [ 3.0324e-02, -2.2570e-02,  2.9248e-02],\n",
              "                        [-6.6950e-03,  6.7853e-02, -1.0494e-01]],\n",
              "              \n",
              "                       [[ 5.1602e-02, -7.6731e-03,  4.5591e-02],\n",
              "                        [ 1.0201e-01, -3.9539e-02, -5.8387e-02],\n",
              "                        [ 7.9642e-02,  4.8819e-02, -6.9759e-02]],\n",
              "              \n",
              "                       [[ 7.6302e-02, -5.4574e-02, -1.5695e-02],\n",
              "                        [-4.7234e-03,  5.0510e-02, -3.0014e-03],\n",
              "                        [-7.4724e-02,  1.1239e-02, -9.6943e-02]],\n",
              "              \n",
              "                       [[ 7.5977e-02,  3.8239e-04, -9.2670e-02],\n",
              "                        [ 9.1354e-02,  4.9014e-02,  4.9122e-03],\n",
              "                        [-1.2413e-02, -1.0244e-02, -9.6251e-02]],\n",
              "              \n",
              "                       [[ 1.5653e-02,  2.8325e-02, -6.2738e-02],\n",
              "                        [ 4.9101e-02,  2.0873e-02, -2.9301e-02],\n",
              "                        [-9.7039e-02,  6.2896e-02, -1.0106e-01]],\n",
              "              \n",
              "                       [[-6.9436e-02,  6.8023e-02, -5.2710e-02],\n",
              "                        [-6.6434e-02, -5.4681e-02, -8.7861e-02],\n",
              "                        [ 4.2668e-02, -2.8296e-02, -5.4753e-02]],\n",
              "              \n",
              "                       [[ 2.2121e-02, -5.1037e-02,  8.9385e-02],\n",
              "                        [-8.8704e-02, -9.9002e-02,  1.4776e-02],\n",
              "                        [-7.7890e-02,  9.3760e-02, -7.1714e-02]],\n",
              "              \n",
              "                       [[ 3.1877e-02,  2.8118e-02,  1.4973e-02],\n",
              "                        [-5.6294e-02, -5.9064e-02, -4.4378e-02],\n",
              "                        [ 3.5941e-02,  8.2649e-02,  4.7682e-02]],\n",
              "              \n",
              "                       [[ 8.1178e-02, -7.5642e-02,  1.0088e-01],\n",
              "                        [-5.8331e-02,  7.0489e-02, -9.3340e-02],\n",
              "                        [-2.3605e-02,  9.2075e-02, -2.8500e-02]]],\n",
              "              \n",
              "              \n",
              "                      [[[ 9.9939e-02,  5.7956e-02,  1.0400e-01],\n",
              "                        [-2.1486e-02, -6.4907e-02, -2.8184e-02],\n",
              "                        [ 3.6707e-02,  7.4078e-02, -4.8068e-02]],\n",
              "              \n",
              "                       [[ 7.3412e-02,  9.9592e-02,  1.6016e-02],\n",
              "                        [ 3.5450e-02, -9.3591e-02, -5.0207e-02],\n",
              "                        [-5.0041e-02, -8.9415e-02,  1.0928e-02]],\n",
              "              \n",
              "                       [[-1.0184e-01,  8.6353e-02, -6.5725e-02],\n",
              "                        [ 6.0688e-02,  8.2245e-02,  7.4140e-02],\n",
              "                        [ 1.0127e-01,  6.3594e-02,  9.5120e-02]],\n",
              "              \n",
              "                       [[-2.5200e-02, -5.2823e-02,  3.0314e-02],\n",
              "                        [-9.8477e-02,  6.2621e-02,  6.7559e-03],\n",
              "                        [-4.0272e-02,  9.3184e-04, -4.1631e-02]],\n",
              "              \n",
              "                       [[ 1.5304e-02,  9.6019e-02, -1.5090e-02],\n",
              "                        [ 7.0974e-02,  5.2001e-03,  3.6327e-02],\n",
              "                        [ 8.4722e-02,  2.4209e-02,  7.5604e-03]],\n",
              "              \n",
              "                       [[ 5.8757e-02, -8.6288e-02, -2.5360e-02],\n",
              "                        [ 7.3973e-02, -8.1034e-02,  4.4847e-04],\n",
              "                        [-1.5187e-02, -1.0144e-01,  7.2661e-02]],\n",
              "              \n",
              "                       [[-2.1487e-02, -9.3071e-02,  7.6592e-02],\n",
              "                        [-7.9962e-02,  6.0294e-02,  5.2634e-02],\n",
              "                        [-4.6624e-02, -2.1696e-03, -7.6593e-02]],\n",
              "              \n",
              "                       [[-4.6715e-02, -5.8800e-02,  8.6095e-02],\n",
              "                        [-8.5090e-02, -8.2296e-02, -9.9191e-02],\n",
              "                        [-6.7371e-03,  2.9535e-03,  9.3829e-02]],\n",
              "              \n",
              "                       [[-3.1723e-02,  2.9901e-02, -2.5867e-02],\n",
              "                        [-9.5032e-02,  6.5750e-02,  3.5573e-03],\n",
              "                        [ 4.6968e-02,  9.2826e-02,  6.8300e-02]],\n",
              "              \n",
              "                       [[ 6.6200e-02,  4.7154e-02, -5.2553e-02],\n",
              "                        [-5.3052e-03, -5.3921e-02,  5.7930e-02],\n",
              "                        [-7.5994e-03, -5.6620e-02,  6.7211e-02]]],\n",
              "              \n",
              "              \n",
              "                      [[[-9.1957e-02,  4.9561e-02,  4.6230e-02],\n",
              "                        [-1.0291e-01,  1.0490e-01, -2.4542e-02],\n",
              "                        [ 1.1383e-02,  8.4980e-03, -9.2501e-02]],\n",
              "              \n",
              "                       [[ 9.2125e-02, -1.0125e-01, -2.8125e-02],\n",
              "                        [-4.4233e-02,  7.5244e-02, -2.1297e-02],\n",
              "                        [ 6.7221e-02, -9.4163e-02, -3.3516e-02]],\n",
              "              \n",
              "                       [[ 7.7443e-02, -5.0999e-02,  8.7436e-02],\n",
              "                        [-1.3294e-02, -8.5132e-02,  1.9952e-03],\n",
              "                        [-4.3036e-02, -7.5916e-02,  7.4817e-02]],\n",
              "              \n",
              "                       [[ 1.2930e-02,  1.9385e-02,  3.6642e-02],\n",
              "                        [-5.9876e-02,  9.5817e-03,  5.4542e-02],\n",
              "                        [-3.2263e-02, -1.8927e-04,  6.1687e-02]],\n",
              "              \n",
              "                       [[ 3.2146e-02, -4.4125e-02, -1.0061e-01],\n",
              "                        [ 1.2528e-02, -1.3929e-02, -2.8464e-02],\n",
              "                        [-4.0487e-02, -9.0943e-02,  8.9866e-02]],\n",
              "              \n",
              "                       [[ 7.5606e-02, -1.0206e-01, -3.7875e-02],\n",
              "                        [-2.0131e-02,  7.9981e-02, -8.8854e-02],\n",
              "                        [ 8.9035e-02, -3.1866e-02, -9.3551e-02]],\n",
              "              \n",
              "                       [[ 2.0356e-02, -6.9174e-02, -9.3563e-02],\n",
              "                        [ 2.2164e-02,  1.3138e-02,  6.0545e-02],\n",
              "                        [ 2.6433e-03, -3.1192e-02,  9.0011e-02]],\n",
              "              \n",
              "                       [[ 9.4963e-02, -5.5313e-03,  1.9997e-02],\n",
              "                        [-7.0488e-03, -4.1771e-02,  9.1097e-02],\n",
              "                        [-3.3213e-02,  3.6463e-02, -5.7980e-02]],\n",
              "              \n",
              "                       [[-7.5702e-04,  3.2106e-02, -3.0727e-02],\n",
              "                        [-4.7348e-02, -7.8756e-02,  2.1337e-02],\n",
              "                        [ 1.0514e-01,  5.6396e-02, -3.5882e-02]],\n",
              "              \n",
              "                       [[-7.4661e-02,  3.4894e-02, -7.8125e-02],\n",
              "                        [ 7.8922e-02,  1.7450e-02, -4.8563e-02],\n",
              "                        [ 5.2082e-02,  8.0708e-02, -9.4907e-02]]],\n",
              "              \n",
              "              \n",
              "                      [[[-3.2769e-02, -7.4744e-02,  7.1288e-02],\n",
              "                        [-3.6139e-02,  8.1214e-03,  3.9971e-02],\n",
              "                        [-3.1362e-02,  5.3164e-03,  9.2411e-02]],\n",
              "              \n",
              "                       [[ 1.3712e-02,  4.6017e-02, -3.6474e-02],\n",
              "                        [ 5.9640e-02, -5.3391e-02,  3.7656e-02],\n",
              "                        [ 2.6425e-03, -5.7979e-02, -6.0657e-02]],\n",
              "              \n",
              "                       [[-2.1872e-02, -6.6863e-02,  3.8167e-02],\n",
              "                        [-3.6079e-02, -9.5341e-02,  1.0269e-01],\n",
              "                        [ 5.1430e-02, -7.6195e-02, -8.0871e-02]],\n",
              "              \n",
              "                       [[-6.9232e-02,  7.6397e-02, -1.2451e-02],\n",
              "                        [ 9.1577e-02,  1.0442e-01, -2.5066e-03],\n",
              "                        [ 5.2673e-02, -1.0439e-01, -6.8306e-02]],\n",
              "              \n",
              "                       [[ 4.1614e-02, -9.0964e-02,  2.1079e-02],\n",
              "                        [-2.8881e-02, -2.9699e-02, -1.3254e-02],\n",
              "                        [ 8.4116e-02, -8.0113e-03,  6.3084e-02]],\n",
              "              \n",
              "                       [[ 5.4564e-02,  8.7633e-02,  6.0046e-02],\n",
              "                        [-8.1032e-02, -4.0060e-03,  9.4166e-02],\n",
              "                        [-3.6051e-02,  5.9468e-03,  6.0862e-02]],\n",
              "              \n",
              "                       [[-4.6468e-03,  2.3669e-02,  8.1761e-03],\n",
              "                        [-1.4438e-02, -5.3252e-02,  1.0367e-01],\n",
              "                        [-3.5608e-03, -2.2094e-02,  8.9834e-02]],\n",
              "              \n",
              "                       [[-8.7522e-02,  1.1043e-02,  3.9235e-02],\n",
              "                        [ 2.3845e-02,  9.8674e-02, -1.7655e-02],\n",
              "                        [ 6.1102e-02, -2.4520e-02, -3.3445e-02]],\n",
              "              \n",
              "                       [[-2.5851e-02,  8.6757e-02,  6.9362e-02],\n",
              "                        [ 8.6844e-02, -3.8156e-02,  4.7593e-02],\n",
              "                        [ 7.8579e-02,  3.3182e-02,  8.6883e-02]],\n",
              "              \n",
              "                       [[ 3.6144e-02,  6.8805e-02,  1.0451e-01],\n",
              "                        [-9.5727e-02,  5.4132e-02, -2.4830e-02],\n",
              "                        [-5.4159e-02, -1.0246e-01, -8.7634e-05]]],\n",
              "              \n",
              "              \n",
              "                      [[[ 5.2365e-02,  2.8209e-03, -3.6801e-02],\n",
              "                        [ 1.0115e-01, -5.1698e-02, -6.1311e-03],\n",
              "                        [ 7.6063e-02, -8.0925e-02,  7.7739e-02]],\n",
              "              \n",
              "                       [[-1.0040e-01,  1.0005e-01,  9.2587e-02],\n",
              "                        [-5.5514e-02, -2.3503e-02, -9.7970e-02],\n",
              "                        [ 1.4201e-02, -6.2292e-02,  4.5143e-02]],\n",
              "              \n",
              "                       [[-4.4153e-02, -1.8687e-02,  9.5682e-02],\n",
              "                        [-3.4240e-02, -5.2363e-02,  8.1190e-03],\n",
              "                        [ 6.6293e-02, -5.9011e-03,  3.5814e-02]],\n",
              "              \n",
              "                       [[-6.0516e-02, -6.8863e-02, -1.1660e-03],\n",
              "                        [-2.9493e-02,  1.0056e-01, -4.1049e-02],\n",
              "                        [-5.4494e-02,  9.5402e-02, -1.6399e-03]],\n",
              "              \n",
              "                       [[-3.1963e-02, -7.4616e-02,  8.2666e-03],\n",
              "                        [ 7.9565e-03,  1.0683e-02, -1.2470e-02],\n",
              "                        [ 2.9626e-02, -4.3370e-02, -7.3339e-03]],\n",
              "              \n",
              "                       [[-5.2377e-02, -1.8169e-02,  5.2888e-02],\n",
              "                        [ 3.3345e-02, -3.2824e-03, -2.1340e-03],\n",
              "                        [ 5.0564e-02, -8.2143e-02, -6.4845e-02]],\n",
              "              \n",
              "                       [[ 5.2501e-02,  8.5634e-02, -3.9480e-02],\n",
              "                        [-5.0770e-02,  6.7641e-02, -4.1916e-03],\n",
              "                        [ 2.7622e-02, -9.2385e-02,  1.5822e-02]],\n",
              "              \n",
              "                       [[ 3.4822e-02,  1.7279e-02, -2.1512e-02],\n",
              "                        [ 9.1594e-02, -4.6767e-02, -9.3057e-03],\n",
              "                        [ 6.9980e-02,  3.9686e-02,  1.8929e-02]],\n",
              "              \n",
              "                       [[ 4.8072e-02,  2.2017e-02, -5.7539e-02],\n",
              "                        [ 8.3103e-02, -3.4874e-02, -6.2838e-02],\n",
              "                        [-7.1478e-02, -9.6583e-02,  5.9463e-02]],\n",
              "              \n",
              "                       [[-2.4376e-03,  2.9317e-02,  7.6061e-02],\n",
              "                        [ 4.5700e-02, -1.0399e-03, -8.1314e-02],\n",
              "                        [-7.8336e-02, -4.8576e-02,  9.1081e-02]]],\n",
              "              \n",
              "              \n",
              "                      [[[ 6.1234e-02,  2.1553e-02,  1.4654e-02],\n",
              "                        [ 6.4755e-02, -7.7434e-02, -5.9051e-02],\n",
              "                        [ 3.6480e-02, -6.7648e-02,  5.4419e-02]],\n",
              "              \n",
              "                       [[-1.0155e-01,  1.5524e-02, -2.7580e-02],\n",
              "                        [-7.0875e-02,  9.7772e-02, -1.0528e-01],\n",
              "                        [ 7.8860e-02, -4.6512e-02,  2.1809e-02]],\n",
              "              \n",
              "                       [[ 7.0556e-02,  5.8988e-02, -9.1086e-02],\n",
              "                        [-6.7978e-02,  7.6149e-02,  8.2192e-02],\n",
              "                        [ 9.9797e-02,  8.0135e-02, -2.7937e-02]],\n",
              "              \n",
              "                       [[-4.1658e-02, -1.7915e-02,  4.4357e-02],\n",
              "                        [ 1.2055e-02,  5.8922e-02,  9.7966e-02],\n",
              "                        [-3.4110e-02,  1.3889e-03,  1.9876e-02]],\n",
              "              \n",
              "                       [[-1.0365e-01,  5.4893e-03,  1.0404e-01],\n",
              "                        [-1.0095e-01, -2.4543e-02,  6.6429e-02],\n",
              "                        [ 4.6752e-02,  2.5358e-02, -8.3756e-02]],\n",
              "              \n",
              "                       [[-9.3901e-03, -3.4013e-02,  7.1412e-02],\n",
              "                        [ 7.7200e-02,  9.9375e-02,  7.5750e-02],\n",
              "                        [ 2.6888e-02,  6.4894e-02,  8.3989e-02]],\n",
              "              \n",
              "                       [[ 3.5142e-02, -1.0008e-01,  3.8761e-02],\n",
              "                        [ 2.8397e-02,  8.7417e-03, -9.4047e-02],\n",
              "                        [-2.4770e-02,  3.8805e-03,  1.3159e-02]],\n",
              "              \n",
              "                       [[ 3.8509e-02,  1.0302e-01, -1.5471e-02],\n",
              "                        [ 9.6525e-02, -6.2073e-02, -2.2041e-02],\n",
              "                        [-2.4981e-02, -1.0287e-01,  8.1469e-02]],\n",
              "              \n",
              "                       [[ 9.6005e-02, -6.6299e-02,  9.9256e-02],\n",
              "                        [-4.9517e-02,  3.2407e-02,  3.7001e-02],\n",
              "                        [ 4.0896e-02,  8.3751e-02,  9.8398e-02]],\n",
              "              \n",
              "                       [[-4.9730e-02, -6.5747e-02,  4.7722e-02],\n",
              "                        [ 9.8994e-02,  7.2981e-02,  6.4609e-02],\n",
              "                        [-1.9142e-02, -2.1225e-02,  2.7407e-02]]]], device='cuda:0')),\n",
              "             ('conv_block_1.2.bias',\n",
              "              tensor([-0.0481, -0.0912,  0.0254,  0.0762, -0.0220, -0.0481, -0.0225,  0.0727,\n",
              "                       0.0169,  0.0622], device='cuda:0')),\n",
              "             ('conv_block_2.0.weight',\n",
              "              tensor([[[[ 9.0018e-03,  6.0889e-02,  5.1133e-02],\n",
              "                        [-6.5902e-02,  6.3315e-02,  5.2341e-02],\n",
              "                        [ 1.2600e-03,  7.0549e-02,  4.8679e-02]],\n",
              "              \n",
              "                       [[-4.0116e-02,  1.0500e-01,  3.0434e-02],\n",
              "                        [ 2.7817e-02, -1.8941e-02,  1.0112e-01],\n",
              "                        [-9.5170e-02,  2.6318e-02,  7.9459e-02]],\n",
              "              \n",
              "                       [[-4.4038e-02, -8.4075e-02,  5.1797e-02],\n",
              "                        [ 1.4720e-02,  6.1871e-03, -8.5922e-02],\n",
              "                        [ 3.0648e-02,  1.0174e-01,  7.2595e-02]],\n",
              "              \n",
              "                       [[ 5.7750e-02,  1.0331e-01,  4.8814e-02],\n",
              "                        [-4.8305e-02,  1.3312e-02, -3.6994e-02],\n",
              "                        [ 1.0523e-01,  4.5275e-03,  4.4448e-02]],\n",
              "              \n",
              "                       [[ 1.5587e-02,  3.9833e-02, -9.3125e-02],\n",
              "                        [-2.6852e-02, -7.6505e-02,  5.6183e-02],\n",
              "                        [ 1.1093e-02, -6.4686e-03, -7.2789e-02]],\n",
              "              \n",
              "                       [[-2.0343e-02,  6.5296e-02, -7.8531e-02],\n",
              "                        [ 1.0071e-01,  1.9606e-02,  5.3166e-03],\n",
              "                        [ 1.0374e-01, -8.0024e-02,  6.4096e-02]],\n",
              "              \n",
              "                       [[-2.2279e-02, -2.1017e-02, -2.8730e-02],\n",
              "                        [ 2.9753e-02,  2.2405e-02,  4.1778e-02],\n",
              "                        [-4.2066e-02,  8.5107e-02,  8.4204e-02]],\n",
              "              \n",
              "                       [[ 8.4979e-02, -8.0470e-02, -1.7167e-02],\n",
              "                        [-7.7534e-02,  8.3911e-02,  5.3436e-02],\n",
              "                        [-8.9660e-02, -8.1211e-02, -1.0337e-01]],\n",
              "              \n",
              "                       [[ 9.8686e-02,  5.0980e-02, -8.6843e-02],\n",
              "                        [-7.1557e-02, -5.2813e-02,  6.7851e-02],\n",
              "                        [ 7.0661e-02, -2.5666e-02,  8.2954e-02]],\n",
              "              \n",
              "                       [[-5.0757e-02,  3.3252e-04, -8.8530e-02],\n",
              "                        [ 2.5641e-02,  1.8662e-02, -7.2332e-02],\n",
              "                        [-3.4171e-02, -1.2433e-02,  8.5084e-02]]],\n",
              "              \n",
              "              \n",
              "                      [[[-2.1782e-02,  3.9675e-02, -8.5531e-02],\n",
              "                        [-3.5396e-02, -9.5316e-03, -6.6725e-02],\n",
              "                        [-5.0853e-02,  7.1908e-03, -2.4503e-02]],\n",
              "              \n",
              "                       [[-3.0669e-02, -6.0293e-02, -7.1722e-02],\n",
              "                        [-4.0337e-02,  6.2427e-02,  4.9067e-02],\n",
              "                        [-9.0696e-02,  5.8393e-02,  8.7119e-02]],\n",
              "              \n",
              "                       [[ 4.4192e-02, -3.9516e-02,  2.2950e-04],\n",
              "                        [ 9.5546e-02,  1.4252e-02, -8.7383e-02],\n",
              "                        [-2.9087e-02, -6.7310e-02, -7.3781e-02]],\n",
              "              \n",
              "                       [[ 3.1186e-02,  1.0287e-01, -7.0365e-02],\n",
              "                        [ 1.3823e-02, -4.4053e-02, -4.5660e-02],\n",
              "                        [-6.0597e-02, -9.1223e-02, -1.4723e-02]],\n",
              "              \n",
              "                       [[ 6.4459e-02,  9.1680e-03,  4.9614e-02],\n",
              "                        [-8.8395e-02,  2.4820e-02, -8.7672e-02],\n",
              "                        [-9.3357e-02, -7.3201e-02, -1.4342e-03]],\n",
              "              \n",
              "                       [[ 4.3485e-02, -6.3199e-02,  8.9109e-02],\n",
              "                        [-9.5756e-02,  6.1834e-02,  7.0680e-02],\n",
              "                        [-3.8780e-02,  6.4924e-02,  2.1026e-02]],\n",
              "              \n",
              "                       [[-6.1770e-02, -1.3513e-02, -4.1193e-02],\n",
              "                        [ 4.6078e-02,  4.5626e-02, -5.5818e-03],\n",
              "                        [ 8.1787e-02, -2.4966e-02, -6.8813e-02]],\n",
              "              \n",
              "                       [[-4.0836e-02, -6.6143e-02,  4.9156e-02],\n",
              "                        [-1.0277e-02,  4.0185e-02, -7.3898e-02],\n",
              "                        [-6.6860e-02, -4.2361e-02, -9.2622e-02]],\n",
              "              \n",
              "                       [[ 8.2521e-03,  2.8148e-02, -5.3086e-02],\n",
              "                        [ 4.2330e-02,  4.4888e-02, -1.5895e-02],\n",
              "                        [ 3.2744e-02,  9.6918e-02, -8.8207e-02]],\n",
              "              \n",
              "                       [[-8.5528e-04,  8.4464e-02,  3.2629e-02],\n",
              "                        [ 3.1072e-02, -7.5574e-02,  1.0014e-01],\n",
              "                        [-7.0502e-02,  7.3427e-03, -4.5952e-02]]],\n",
              "              \n",
              "              \n",
              "                      [[[-2.9168e-02, -6.5077e-02,  5.3822e-02],\n",
              "                        [ 8.9790e-02, -7.4116e-02, -1.5511e-02],\n",
              "                        [ 1.8424e-02, -8.0613e-02,  2.1385e-02]],\n",
              "              \n",
              "                       [[ 8.9519e-02,  5.7057e-02, -6.8675e-02],\n",
              "                        [-9.3782e-02, -9.5688e-02,  3.6533e-03],\n",
              "                        [ 8.0239e-02, -7.0180e-02,  1.0498e-01]],\n",
              "              \n",
              "                       [[ 7.0721e-02, -7.0312e-02,  2.5898e-02],\n",
              "                        [-8.5363e-03,  8.1466e-02, -3.5340e-03],\n",
              "                        [-8.1378e-02,  1.5908e-02, -1.7410e-02]],\n",
              "              \n",
              "                       [[-8.0186e-02,  5.3629e-02,  2.5296e-02],\n",
              "                        [ 8.0736e-02, -7.6069e-02,  5.2148e-02],\n",
              "                        [ 8.4002e-02, -2.3551e-02, -3.6371e-02]],\n",
              "              \n",
              "                       [[ 1.0426e-01, -9.7790e-02,  4.9260e-02],\n",
              "                        [-6.5365e-02, -1.0120e-01,  4.8026e-02],\n",
              "                        [ 6.3893e-02,  1.3272e-02, -8.0308e-02]],\n",
              "              \n",
              "                       [[-3.7283e-02, -2.0636e-02,  1.0128e-01],\n",
              "                        [ 7.8165e-02,  1.5084e-02,  5.3391e-02],\n",
              "                        [ 8.7320e-02,  1.2780e-02,  4.1197e-02]],\n",
              "              \n",
              "                       [[ 9.5040e-02, -9.7204e-02, -6.0024e-02],\n",
              "                        [ 1.0107e-01, -1.1791e-02, -2.1397e-02],\n",
              "                        [-5.8991e-02,  9.0960e-02,  3.2635e-03]],\n",
              "              \n",
              "                       [[ 6.9441e-02,  5.2899e-02,  7.2826e-02],\n",
              "                        [-7.0441e-02, -4.2414e-02,  8.5695e-02],\n",
              "                        [-4.5681e-02, -1.7046e-02,  1.0395e-01]],\n",
              "              \n",
              "                       [[ 5.8861e-02, -3.1058e-02, -8.4807e-02],\n",
              "                        [ 8.7361e-03, -8.3467e-02,  5.2432e-02],\n",
              "                        [ 3.2514e-02, -3.0120e-05, -6.4097e-02]],\n",
              "              \n",
              "                       [[ 3.9441e-02,  5.7841e-02, -7.8334e-02],\n",
              "                        [-8.6652e-02, -3.0419e-02,  9.5583e-02],\n",
              "                        [ 6.4977e-02, -1.2623e-03,  6.9723e-03]]],\n",
              "              \n",
              "              \n",
              "                      [[[-5.2781e-02,  1.4454e-02,  4.7725e-02],\n",
              "                        [-5.1999e-02, -1.9987e-02, -6.1177e-02],\n",
              "                        [ 8.0068e-02,  8.7515e-02, -1.0157e-01]],\n",
              "              \n",
              "                       [[ 7.5604e-02, -9.3978e-02,  1.3312e-02],\n",
              "                        [ 1.5233e-02, -9.8096e-02, -5.9231e-02],\n",
              "                        [ 3.8890e-02,  7.0266e-02, -4.3163e-02]],\n",
              "              \n",
              "                       [[-5.8292e-02,  8.0183e-02, -5.8288e-02],\n",
              "                        [ 5.0578e-02,  8.0721e-02, -9.3806e-02],\n",
              "                        [-2.8575e-02,  9.3763e-02,  1.4709e-03]],\n",
              "              \n",
              "                       [[-3.3794e-02, -8.4192e-02, -7.9558e-02],\n",
              "                        [ 4.7341e-02,  1.3470e-03, -1.0378e-01],\n",
              "                        [-9.6496e-02, -4.6594e-02,  2.2803e-02]],\n",
              "              \n",
              "                       [[-1.0078e-01,  9.2807e-03,  3.5738e-02],\n",
              "                        [-6.4131e-02,  8.5582e-02,  4.9384e-02],\n",
              "                        [ 9.9214e-02,  8.3993e-02,  3.0008e-02]],\n",
              "              \n",
              "                       [[-2.7335e-02,  7.9557e-02,  2.7953e-02],\n",
              "                        [-1.7424e-02, -3.1211e-02,  8.5696e-03],\n",
              "                        [ 1.3992e-02, -8.9229e-02,  2.3750e-02]],\n",
              "              \n",
              "                       [[ 2.5260e-02,  6.5286e-02,  9.7206e-02],\n",
              "                        [-4.6381e-02,  2.0638e-02,  1.0215e-01],\n",
              "                        [ 1.0417e-01, -8.7752e-02, -6.6675e-03]],\n",
              "              \n",
              "                       [[-2.4332e-02,  9.6439e-02, -5.9771e-02],\n",
              "                        [ 9.0469e-02, -7.1413e-03, -4.4504e-02],\n",
              "                        [-6.5360e-02, -9.9431e-03,  8.2390e-02]],\n",
              "              \n",
              "                       [[-5.6081e-03,  8.2645e-02,  4.7909e-02],\n",
              "                        [ 9.2781e-02,  2.9989e-02, -3.3699e-02],\n",
              "                        [ 9.4488e-02,  1.0814e-02,  2.5790e-02]],\n",
              "              \n",
              "                       [[ 9.7837e-02,  2.0087e-03, -7.3793e-02],\n",
              "                        [ 6.9394e-02,  9.3381e-02, -8.1129e-02],\n",
              "                        [ 7.9847e-02,  8.2504e-03, -5.0470e-02]]],\n",
              "              \n",
              "              \n",
              "                      [[[ 9.0100e-02,  8.3147e-02, -4.4812e-02],\n",
              "                        [ 2.0695e-02,  8.4549e-02, -3.6200e-02],\n",
              "                        [ 1.4669e-02,  6.0602e-02, -7.7532e-02]],\n",
              "              \n",
              "                       [[-8.1432e-02, -6.2741e-02, -1.0044e-02],\n",
              "                        [-7.7345e-02, -4.0334e-02, -9.2126e-02],\n",
              "                        [-8.6095e-02,  8.4863e-02,  1.0784e-02]],\n",
              "              \n",
              "                       [[-5.4217e-02,  4.8262e-02,  2.2292e-02],\n",
              "                        [ 3.3515e-02,  4.3435e-02,  3.3142e-02],\n",
              "                        [-5.6340e-02, -8.8473e-02,  4.1183e-02]],\n",
              "              \n",
              "                       [[ 2.5456e-02,  6.0479e-02,  6.7368e-02],\n",
              "                        [-9.5054e-02, -1.0245e-03, -7.2895e-02],\n",
              "                        [-7.2739e-02,  5.4437e-02,  4.6699e-02]],\n",
              "              \n",
              "                       [[ 3.1469e-02,  4.9044e-02,  3.9206e-02],\n",
              "                        [-9.2452e-03, -1.0191e-01,  1.0207e-01],\n",
              "                        [ 2.1915e-02, -8.2174e-02, -7.3271e-02]],\n",
              "              \n",
              "                       [[ 6.8982e-02, -1.6377e-02,  5.8582e-02],\n",
              "                        [-4.7627e-02,  1.8504e-02,  5.7735e-02],\n",
              "                        [ 6.3993e-02,  8.3670e-02,  2.2516e-02]],\n",
              "              \n",
              "                       [[-9.3278e-02, -9.8913e-02,  3.8884e-03],\n",
              "                        [ 8.6561e-02, -2.4745e-02, -1.5089e-04],\n",
              "                        [-6.8370e-02,  4.4781e-02,  9.7000e-02]],\n",
              "              \n",
              "                       [[-1.9139e-02, -2.3759e-02,  9.1061e-02],\n",
              "                        [-9.6606e-02,  9.8305e-02, -6.9062e-02],\n",
              "                        [ 1.3010e-02,  1.0206e-01, -4.6665e-03]],\n",
              "              \n",
              "                       [[-8.2096e-02,  3.8908e-02,  3.7896e-02],\n",
              "                        [-9.4271e-02, -1.7648e-02,  1.1610e-02],\n",
              "                        [-8.5202e-02,  4.0569e-02, -3.4934e-03]],\n",
              "              \n",
              "                       [[ 5.6245e-02,  3.7218e-02, -1.0411e-01],\n",
              "                        [-2.9346e-02,  8.3752e-03,  7.7394e-02],\n",
              "                        [-4.1478e-02,  1.5271e-02, -8.3826e-02]]],\n",
              "              \n",
              "              \n",
              "                      [[[ 1.2198e-02,  7.3947e-02, -4.8951e-02],\n",
              "                        [ 7.5568e-02, -1.9573e-02, -3.6040e-02],\n",
              "                        [ 1.6026e-02,  4.4084e-02, -7.8965e-02]],\n",
              "              \n",
              "                       [[-8.9863e-03, -1.5243e-02,  3.4499e-02],\n",
              "                        [ 2.9604e-02,  5.5949e-02, -6.9587e-02],\n",
              "                        [-1.0181e-01, -2.0231e-02,  1.5181e-03]],\n",
              "              \n",
              "                       [[-3.1060e-02,  3.2987e-03,  4.5279e-02],\n",
              "                        [ 7.7800e-02, -7.8744e-02,  9.5564e-02],\n",
              "                        [-5.3726e-02, -3.7224e-02,  6.8917e-03]],\n",
              "              \n",
              "                       [[ 5.4691e-02,  5.7034e-02,  8.6007e-03],\n",
              "                        [ 1.0219e-01, -6.3631e-02, -8.9326e-02],\n",
              "                        [ 8.2405e-02,  4.2655e-02,  8.1704e-02]],\n",
              "              \n",
              "                       [[-8.1707e-02,  6.4670e-02,  9.1672e-02],\n",
              "                        [ 8.9064e-02, -4.4756e-02, -2.6299e-02],\n",
              "                        [-5.7035e-02, -4.0291e-02,  6.1866e-02]],\n",
              "              \n",
              "                       [[ 5.0346e-02, -4.8459e-02,  6.0975e-02],\n",
              "                        [ 4.2870e-02, -1.0310e-01, -6.1286e-02],\n",
              "                        [ 8.4058e-02, -5.9058e-02,  7.8817e-02]],\n",
              "              \n",
              "                       [[-9.5996e-02, -2.8742e-02,  1.0531e-01],\n",
              "                        [ 2.2407e-03,  9.4367e-02, -1.7873e-02],\n",
              "                        [ 7.1327e-02,  9.5601e-02, -7.3798e-02]],\n",
              "              \n",
              "                       [[ 6.1605e-02,  6.6485e-02, -3.6456e-02],\n",
              "                        [-8.8877e-02,  6.1074e-02,  4.8958e-02],\n",
              "                        [ 5.1225e-02,  6.0920e-03,  3.2797e-03]],\n",
              "              \n",
              "                       [[-9.6305e-02, -9.2760e-02,  1.3304e-02],\n",
              "                        [-4.0561e-02,  7.4055e-02, -4.6451e-02],\n",
              "                        [ 5.1870e-02,  5.6112e-03, -2.0718e-02]],\n",
              "              \n",
              "                       [[-8.6210e-02, -1.9856e-02, -4.7189e-02],\n",
              "                        [-4.3366e-02, -3.7658e-02, -1.4595e-02],\n",
              "                        [-3.7585e-02,  6.2120e-02, -5.7861e-02]]],\n",
              "              \n",
              "              \n",
              "                      [[[-8.3852e-02,  7.8176e-02, -5.9735e-02],\n",
              "                        [-7.6693e-03, -7.6372e-02, -2.2368e-02],\n",
              "                        [-3.1028e-02, -4.6336e-02, -3.0942e-02]],\n",
              "              \n",
              "                       [[ 5.8008e-02, -2.1883e-02,  9.0636e-02],\n",
              "                        [-5.9533e-02, -7.4083e-02,  3.7821e-02],\n",
              "                        [ 9.8806e-02,  9.0632e-02,  3.0228e-02]],\n",
              "              \n",
              "                       [[-6.2392e-03, -3.0606e-02,  1.3843e-02],\n",
              "                        [ 3.8892e-02,  3.3600e-02,  4.0513e-02],\n",
              "                        [-3.8478e-02, -5.9134e-02, -8.5054e-02]],\n",
              "              \n",
              "                       [[ 2.1358e-02, -8.8653e-02,  1.0171e-01],\n",
              "                        [ 8.9263e-02,  9.9201e-02,  7.4490e-02],\n",
              "                        [ 2.5293e-02,  2.2991e-02, -4.1966e-02]],\n",
              "              \n",
              "                       [[ 5.4129e-02,  1.5462e-02, -3.3072e-02],\n",
              "                        [-9.1746e-02,  1.0505e-01, -3.1511e-03],\n",
              "                        [-4.6451e-02,  2.7627e-02, -2.5453e-02]],\n",
              "              \n",
              "                       [[-8.6376e-02,  8.8276e-02, -8.1791e-02],\n",
              "                        [ 3.2299e-02, -3.7284e-02,  8.4828e-02],\n",
              "                        [-3.3444e-02, -1.5282e-02,  5.4748e-02]],\n",
              "              \n",
              "                       [[-3.1317e-02, -5.1583e-02,  1.6519e-03],\n",
              "                        [-4.9845e-02,  3.2024e-02,  4.3927e-02],\n",
              "                        [ 7.9124e-02,  5.4180e-02,  5.0818e-02]],\n",
              "              \n",
              "                       [[-6.3214e-02,  1.0051e-01,  5.2817e-03],\n",
              "                        [-1.0122e-01, -3.4189e-02,  2.9952e-03],\n",
              "                        [ 2.7825e-02,  2.8931e-02,  5.3864e-02]],\n",
              "              \n",
              "                       [[-4.7451e-02, -1.8204e-02, -6.9630e-02],\n",
              "                        [ 3.5113e-02, -7.8832e-02,  7.7252e-02],\n",
              "                        [-2.4288e-02, -7.2405e-02, -2.8288e-02]],\n",
              "              \n",
              "                       [[-1.0057e-02, -4.9531e-02, -2.3447e-02],\n",
              "                        [ 6.5587e-02,  2.9656e-02,  4.3092e-03],\n",
              "                        [ 9.5651e-02, -1.6464e-02, -8.6893e-02]]],\n",
              "              \n",
              "              \n",
              "                      [[[-5.9296e-03,  9.3199e-02, -5.8133e-02],\n",
              "                        [-5.8700e-02, -4.0637e-02,  3.0686e-02],\n",
              "                        [ 9.9156e-02, -4.8576e-02,  8.1013e-02]],\n",
              "              \n",
              "                       [[-3.9088e-02, -7.3243e-02,  5.7570e-02],\n",
              "                        [-1.6400e-02, -5.8705e-02,  9.4105e-02],\n",
              "                        [-9.6219e-03, -2.4777e-02, -8.4258e-02]],\n",
              "              \n",
              "                       [[ 3.7130e-03,  2.8840e-02, -7.7000e-02],\n",
              "                        [ 7.0554e-02, -9.3811e-02, -8.0897e-03],\n",
              "                        [-2.0878e-02,  2.4644e-02, -8.9075e-02]],\n",
              "              \n",
              "                       [[-9.2434e-02,  3.3007e-02,  1.0083e-01],\n",
              "                        [-5.5955e-02, -1.0369e-01, -5.0078e-02],\n",
              "                        [-1.0315e-01,  2.9229e-02,  5.2501e-03]],\n",
              "              \n",
              "                       [[ 5.7528e-02, -5.2423e-02,  8.4022e-02],\n",
              "                        [-6.3988e-02, -1.1153e-02, -7.6931e-02],\n",
              "                        [-8.5295e-03, -8.3052e-02,  9.1723e-04]],\n",
              "              \n",
              "                       [[-7.9149e-02,  9.2764e-02,  1.0497e-01],\n",
              "                        [ 5.2745e-02, -3.9575e-02, -1.5822e-02],\n",
              "                        [-1.0168e-01, -1.7411e-02,  2.5288e-02]],\n",
              "              \n",
              "                       [[-9.7062e-02, -3.9591e-02,  8.1085e-02],\n",
              "                        [-6.4113e-02, -3.8087e-02, -3.4935e-03],\n",
              "                        [-9.7420e-03,  9.1671e-02, -2.8727e-02]],\n",
              "              \n",
              "                       [[-3.7593e-03, -1.6811e-03, -4.6857e-02],\n",
              "                        [-1.0523e-02, -8.6185e-02, -6.0829e-02],\n",
              "                        [-2.8640e-03,  9.9830e-02, -1.0383e-01]],\n",
              "              \n",
              "                       [[ 1.3103e-02, -8.5419e-02, -1.4455e-02],\n",
              "                        [-4.8016e-02,  1.8642e-02, -9.3996e-02],\n",
              "                        [-1.4037e-02, -7.2322e-02,  5.4555e-03]],\n",
              "              \n",
              "                       [[-8.4926e-03,  5.6096e-02, -5.7514e-02],\n",
              "                        [ 6.9344e-02,  3.8876e-02, -9.1141e-02],\n",
              "                        [-1.0472e-01,  4.9146e-02,  5.6324e-02]]],\n",
              "              \n",
              "              \n",
              "                      [[[ 4.8205e-02, -2.2606e-02, -7.7353e-02],\n",
              "                        [-9.3937e-02, -5.6402e-02, -3.8951e-02],\n",
              "                        [ 2.0808e-02,  1.4597e-02, -9.4831e-02]],\n",
              "              \n",
              "                       [[ 7.7368e-02,  3.9093e-02, -4.6107e-02],\n",
              "                        [-3.8930e-02, -8.4281e-02, -2.1426e-02],\n",
              "                        [ 5.5313e-02, -8.8139e-02, -7.7361e-02]],\n",
              "              \n",
              "                       [[-1.6863e-02, -5.2404e-02,  6.7660e-02],\n",
              "                        [-6.8126e-02,  6.9954e-02, -7.0409e-02],\n",
              "                        [ 7.9922e-02,  1.0501e-01, -5.6956e-02]],\n",
              "              \n",
              "                       [[-1.9690e-02, -7.5295e-02,  8.2062e-02],\n",
              "                        [ 8.7835e-02, -7.9346e-02, -6.2929e-02],\n",
              "                        [ 9.9759e-02, -5.0311e-02,  2.1221e-02]],\n",
              "              \n",
              "                       [[ 2.3391e-02,  5.8936e-02,  8.8241e-02],\n",
              "                        [-5.5460e-03, -6.6501e-02,  7.3912e-02],\n",
              "                        [-8.3027e-02,  6.0952e-02,  8.9172e-02]],\n",
              "              \n",
              "                       [[ 1.5752e-02,  7.8692e-02,  5.6725e-02],\n",
              "                        [ 4.2548e-02,  5.6942e-02,  5.9056e-03],\n",
              "                        [-1.0199e-02,  7.7414e-02, -3.0959e-02]],\n",
              "              \n",
              "                       [[ 3.6905e-02, -5.5108e-02, -4.0760e-02],\n",
              "                        [-5.7137e-02,  6.3392e-02,  5.9426e-02],\n",
              "                        [-5.3880e-02,  7.4041e-02,  4.7396e-02]],\n",
              "              \n",
              "                       [[ 6.6945e-02,  9.3065e-03, -1.9134e-02],\n",
              "                        [-2.0943e-02,  9.0642e-03, -4.1690e-02],\n",
              "                        [-8.3470e-02, -5.0558e-02,  5.8003e-02]],\n",
              "              \n",
              "                       [[ 3.6830e-02,  3.0298e-03, -1.6091e-02],\n",
              "                        [ 8.0184e-02, -5.2095e-03,  2.8355e-02],\n",
              "                        [ 9.9981e-02, -2.5613e-02,  5.8008e-02]],\n",
              "              \n",
              "                       [[ 6.7458e-02, -4.2682e-03, -4.3583e-03],\n",
              "                        [-1.2095e-02, -1.9540e-02,  6.7612e-03],\n",
              "                        [-6.2513e-02, -5.9510e-02, -3.4770e-02]]],\n",
              "              \n",
              "              \n",
              "                      [[[ 8.6737e-02, -3.1458e-02, -3.2754e-02],\n",
              "                        [ 3.9855e-02, -7.8114e-02,  4.7646e-02],\n",
              "                        [-8.3123e-04, -1.0045e-01,  4.7963e-02]],\n",
              "              \n",
              "                       [[-8.8504e-02, -5.6442e-02, -1.9897e-02],\n",
              "                        [-5.7123e-02,  5.8333e-02, -1.7123e-02],\n",
              "                        [-9.6140e-02, -9.3018e-03, -8.1739e-02]],\n",
              "              \n",
              "                       [[ 4.2992e-02,  9.1496e-02, -3.9998e-02],\n",
              "                        [ 2.3576e-02, -8.1898e-02,  9.3892e-02],\n",
              "                        [ 4.8671e-02, -2.8991e-02,  3.5717e-03]],\n",
              "              \n",
              "                       [[ 8.4225e-02, -5.9151e-02,  1.2973e-02],\n",
              "                        [-8.9921e-02,  8.6687e-02,  9.5629e-02],\n",
              "                        [-5.2231e-03,  6.9909e-02, -8.2268e-02]],\n",
              "              \n",
              "                       [[-9.2360e-02, -8.3065e-02, -1.0227e-01],\n",
              "                        [-7.5461e-02,  1.5267e-02, -7.5621e-03],\n",
              "                        [ 4.9509e-02,  7.9938e-02, -2.4411e-02]],\n",
              "              \n",
              "                       [[-8.5632e-03,  4.0545e-02,  6.4954e-03],\n",
              "                        [ 9.3330e-02,  6.1439e-02, -1.0115e-01],\n",
              "                        [-3.3807e-02,  5.1680e-03,  9.2325e-02]],\n",
              "              \n",
              "                       [[ 5.3774e-02,  1.7661e-02, -6.8360e-02],\n",
              "                        [-9.1619e-02,  9.2246e-02, -9.9218e-02],\n",
              "                        [ 5.7262e-02,  4.2299e-02, -9.8503e-02]],\n",
              "              \n",
              "                       [[ 9.5409e-02, -2.6735e-02,  4.9785e-02],\n",
              "                        [ 1.6346e-02,  5.6994e-02,  9.0001e-02],\n",
              "                        [-6.4748e-02, -7.7193e-02,  6.5798e-02]],\n",
              "              \n",
              "                       [[-6.6503e-02, -9.8754e-02, -6.1898e-02],\n",
              "                        [ 9.7051e-02,  3.3129e-02,  8.0783e-02],\n",
              "                        [-2.9373e-02, -7.3453e-02,  6.0668e-02]],\n",
              "              \n",
              "                       [[ 5.0353e-03, -8.8454e-02,  3.9082e-02],\n",
              "                        [ 7.6833e-02, -8.8152e-02, -9.6549e-02],\n",
              "                        [-4.9431e-02,  1.2411e-03,  1.7590e-02]]]], device='cuda:0')),\n",
              "             ('conv_block_2.0.bias',\n",
              "              tensor([ 0.0680,  0.0916, -0.0323, -0.0181,  0.0025, -0.0655,  0.0746, -0.0533,\n",
              "                       0.0062, -0.0527], device='cuda:0')),\n",
              "             ('conv_block_2.2.weight',\n",
              "              tensor([[[[-0.0222,  0.0200,  0.1015],\n",
              "                        [-0.0184,  0.0489, -0.0620],\n",
              "                        [ 0.0326, -0.0732, -0.0939]],\n",
              "              \n",
              "                       [[-0.0130,  0.0336,  0.0446],\n",
              "                        [-0.0449,  0.0093, -0.0731],\n",
              "                        [-0.0018,  0.0944, -0.0265]],\n",
              "              \n",
              "                       [[ 0.0994, -0.0019, -0.0592],\n",
              "                        [ 0.0571, -0.0206,  0.0120],\n",
              "                        [ 0.0413,  0.0289, -0.0097]],\n",
              "              \n",
              "                       [[ 0.0015, -0.0258,  0.0584],\n",
              "                        [ 0.0018, -0.0336, -0.0322],\n",
              "                        [ 0.0320,  0.0255,  0.0097]],\n",
              "              \n",
              "                       [[-0.0546,  0.0257, -0.0410],\n",
              "                        [ 0.0655,  0.0622,  0.0615],\n",
              "                        [-0.0657,  0.0946, -0.0663]],\n",
              "              \n",
              "                       [[ 0.0710, -0.0666, -0.0399],\n",
              "                        [-0.0518, -0.0445, -0.0447],\n",
              "                        [-0.0534, -0.0263,  0.0848]],\n",
              "              \n",
              "                       [[ 0.0457,  0.0473,  0.0938],\n",
              "                        [ 0.0154, -0.0598,  0.0979],\n",
              "                        [-0.0941,  0.0147, -0.0548]],\n",
              "              \n",
              "                       [[-0.0430,  0.0603, -0.0166],\n",
              "                        [-0.0076, -0.0068,  0.0614],\n",
              "                        [-0.0486,  0.0570,  0.0178]],\n",
              "              \n",
              "                       [[ 0.0797,  0.0448,  0.0120],\n",
              "                        [ 0.0619, -0.0164,  0.0181],\n",
              "                        [-0.0504,  0.0266,  0.0517]],\n",
              "              \n",
              "                       [[ 0.0369, -0.0254, -0.0382],\n",
              "                        [-0.0479, -0.0126, -0.0387],\n",
              "                        [-0.0453, -0.0350,  0.0103]]],\n",
              "              \n",
              "              \n",
              "                      [[[ 0.0171,  0.0460, -0.0643],\n",
              "                        [-0.0569, -0.0945, -0.1003],\n",
              "                        [ 0.0979, -0.0794,  0.0484]],\n",
              "              \n",
              "                       [[ 0.0155, -0.0914,  0.0822],\n",
              "                        [-0.0722,  0.0716,  0.0517],\n",
              "                        [ 0.0763,  0.0596, -0.0740]],\n",
              "              \n",
              "                       [[ 0.0342, -0.0490,  0.0793],\n",
              "                        [-0.0539,  0.0145, -0.0138],\n",
              "                        [ 0.1018,  0.0106, -0.1019]],\n",
              "              \n",
              "                       [[ 0.0192, -0.0973, -0.1046],\n",
              "                        [-0.0323,  0.0747,  0.0138],\n",
              "                        [-0.0168,  0.0784, -0.0887]],\n",
              "              \n",
              "                       [[ 0.0528, -0.0350, -0.0812],\n",
              "                        [-0.0281, -0.0081,  0.0447],\n",
              "                        [ 0.0769,  0.1038,  0.1006]],\n",
              "              \n",
              "                       [[ 0.0271, -0.0947, -0.0922],\n",
              "                        [ 0.0005, -0.1028, -0.0995],\n",
              "                        [ 0.0358,  0.0332, -0.0896]],\n",
              "              \n",
              "                       [[-0.1040, -0.0352, -0.0025],\n",
              "                        [-0.0765,  0.0624, -0.0851],\n",
              "                        [ 0.0956, -0.0754,  0.0277]],\n",
              "              \n",
              "                       [[ 0.0152, -0.0517,  0.0296],\n",
              "                        [-0.0994,  0.0212,  0.0445],\n",
              "                        [ 0.0367,  0.0092, -0.0047]],\n",
              "              \n",
              "                       [[ 0.0381,  0.0123, -0.0513],\n",
              "                        [ 0.0138,  0.0829,  0.0135],\n",
              "                        [-0.0215,  0.0262,  0.0861]],\n",
              "              \n",
              "                       [[-0.0976,  0.0820,  0.0744],\n",
              "                        [-0.0627,  0.0710, -0.0794],\n",
              "                        [-0.0582,  0.0301,  0.0170]]],\n",
              "              \n",
              "              \n",
              "                      [[[ 0.0127,  0.0744,  0.0327],\n",
              "                        [ 0.0921, -0.0203, -0.0249],\n",
              "                        [ 0.0134,  0.0530,  0.0846]],\n",
              "              \n",
              "                       [[ 0.0933, -0.0424,  0.0841],\n",
              "                        [-0.0923, -0.0165,  0.0093],\n",
              "                        [ 0.0543,  0.0948, -0.0804]],\n",
              "              \n",
              "                       [[-0.0413, -0.0770, -0.0618],\n",
              "                        [ 0.0816, -0.0686,  0.0650],\n",
              "                        [ 0.0355, -0.0103, -0.0622]],\n",
              "              \n",
              "                       [[-0.0593,  0.0033, -0.0384],\n",
              "                        [ 0.0267,  0.0143,  0.1011],\n",
              "                        [-0.0065,  0.0037, -0.0975]],\n",
              "              \n",
              "                       [[ 0.0022,  0.0716,  0.0889],\n",
              "                        [-0.0469, -0.0982,  0.0294],\n",
              "                        [-0.0458, -0.0666, -0.0421]],\n",
              "              \n",
              "                       [[-0.0422,  0.0738, -0.0174],\n",
              "                        [ 0.1054, -0.0422, -0.0017],\n",
              "                        [-0.0372, -0.0789, -0.0042]],\n",
              "              \n",
              "                       [[ 0.0037,  0.0041,  0.0285],\n",
              "                        [ 0.0270,  0.0800, -0.0973],\n",
              "                        [ 0.0157,  0.1039, -0.0841]],\n",
              "              \n",
              "                       [[ 0.0323,  0.0159, -0.0486],\n",
              "                        [-0.0837,  0.0474, -0.0729],\n",
              "                        [ 0.0274, -0.0483,  0.0829]],\n",
              "              \n",
              "                       [[ 0.0241,  0.0358, -0.0534],\n",
              "                        [ 0.0669, -0.0108, -0.0277],\n",
              "                        [ 0.0812, -0.0736, -0.0605]],\n",
              "              \n",
              "                       [[-0.0311,  0.0104,  0.0883],\n",
              "                        [ 0.0304, -0.0735, -0.0598],\n",
              "                        [ 0.0616, -0.0938,  0.0360]]],\n",
              "              \n",
              "              \n",
              "                      [[[-0.0793, -0.0091, -0.0925],\n",
              "                        [-0.0817,  0.0741,  0.1005],\n",
              "                        [ 0.1018,  0.0179, -0.0400]],\n",
              "              \n",
              "                       [[ 0.0067, -0.0873, -0.0062],\n",
              "                        [-0.0952,  0.0129,  0.0180],\n",
              "                        [-0.0324, -0.0953,  0.0153]],\n",
              "              \n",
              "                       [[ 0.1023, -0.0423,  0.0817],\n",
              "                        [-0.0652, -0.0831,  0.1020],\n",
              "                        [-0.0461, -0.0196, -0.0449]],\n",
              "              \n",
              "                       [[-0.0853,  0.0914, -0.0923],\n",
              "                        [-0.0685, -0.0792,  0.0940],\n",
              "                        [-0.0431, -0.0746, -0.0223]],\n",
              "              \n",
              "                       [[-0.0653, -0.0239,  0.0412],\n",
              "                        [ 0.0275, -0.0801,  0.0647],\n",
              "                        [ 0.0062,  0.0661, -0.0945]],\n",
              "              \n",
              "                       [[ 0.0483, -0.0997, -0.1017],\n",
              "                        [-0.0265,  0.0180, -0.0492],\n",
              "                        [ 0.1031, -0.0417, -0.0595]],\n",
              "              \n",
              "                       [[-0.0464,  0.0857,  0.0262],\n",
              "                        [ 0.0949,  0.1033,  0.0410],\n",
              "                        [ 0.0315,  0.0965,  0.0255]],\n",
              "              \n",
              "                       [[-0.0559, -0.0914, -0.0421],\n",
              "                        [ 0.0413,  0.0904, -0.0981],\n",
              "                        [-0.1031,  0.0371, -0.0060]],\n",
              "              \n",
              "                       [[ 0.0390, -0.0218,  0.0221],\n",
              "                        [ 0.1038,  0.0048,  0.0298],\n",
              "                        [ 0.0283, -0.0299, -0.0477]],\n",
              "              \n",
              "                       [[ 0.0004, -0.0806,  0.0037],\n",
              "                        [-0.0531,  0.0359,  0.0693],\n",
              "                        [-0.0650, -0.0818, -0.0582]]],\n",
              "              \n",
              "              \n",
              "                      [[[-0.0408, -0.0474,  0.0903],\n",
              "                        [-0.0536, -0.0197,  0.0868],\n",
              "                        [ 0.0218, -0.1020,  0.0276]],\n",
              "              \n",
              "                       [[-0.0241,  0.0905, -0.0796],\n",
              "                        [-0.0542,  0.0717,  0.1021],\n",
              "                        [-0.0164, -0.0767, -0.0659]],\n",
              "              \n",
              "                       [[ 0.0751, -0.1039, -0.1022],\n",
              "                        [ 0.0864, -0.0876, -0.0944],\n",
              "                        [ 0.0141,  0.0065, -0.0734]],\n",
              "              \n",
              "                       [[ 0.0248,  0.0025, -0.0063],\n",
              "                        [-0.0763, -0.0026,  0.0236],\n",
              "                        [-0.0900,  0.0581, -0.0289]],\n",
              "              \n",
              "                       [[-0.0606,  0.0291, -0.0692],\n",
              "                        [-0.0352, -0.0971,  0.0994],\n",
              "                        [-0.0230, -0.0315,  0.0549]],\n",
              "              \n",
              "                       [[-0.0904,  0.0868,  0.0865],\n",
              "                        [-0.0827,  0.0809,  0.0196],\n",
              "                        [ 0.0174,  0.0010,  0.0444]],\n",
              "              \n",
              "                       [[ 0.0800, -0.0919, -0.0503],\n",
              "                        [-0.0226,  0.0637,  0.0669],\n",
              "                        [-0.0008,  0.0272, -0.0094]],\n",
              "              \n",
              "                       [[ 0.0200,  0.0941, -0.1047],\n",
              "                        [ 0.0107,  0.0824, -0.0849],\n",
              "                        [ 0.0426,  0.0600, -0.0299]],\n",
              "              \n",
              "                       [[ 0.0315,  0.1027,  0.0743],\n",
              "                        [ 0.1053, -0.0828, -0.0303],\n",
              "                        [-0.0086,  0.0810,  0.0939]],\n",
              "              \n",
              "                       [[ 0.0369,  0.0026,  0.0149],\n",
              "                        [-0.0417,  0.0799, -0.0998],\n",
              "                        [-0.0260,  0.0712,  0.0325]]],\n",
              "              \n",
              "              \n",
              "                      [[[ 0.1036, -0.0688,  0.0681],\n",
              "                        [ 0.0735, -0.0955, -0.0405],\n",
              "                        [ 0.0487, -0.0508,  0.1045]],\n",
              "              \n",
              "                       [[ 0.0672, -0.0055,  0.0691],\n",
              "                        [ 0.0885,  0.0121, -0.0501],\n",
              "                        [-0.0316, -0.0312,  0.0400]],\n",
              "              \n",
              "                       [[ 0.0120,  0.0011,  0.0203],\n",
              "                        [ 0.0426, -0.1028,  0.0547],\n",
              "                        [-0.0764, -0.0752, -0.0184]],\n",
              "              \n",
              "                       [[-0.0207, -0.0391, -0.1018],\n",
              "                        [ 0.0968,  0.0970,  0.0658],\n",
              "                        [-0.0731,  0.0874,  0.0069]],\n",
              "              \n",
              "                       [[-0.0383,  0.0665, -0.0030],\n",
              "                        [ 0.1030,  0.0243,  0.0593],\n",
              "                        [-0.0888,  0.0044, -0.0935]],\n",
              "              \n",
              "                       [[-0.1035,  0.0811, -0.0488],\n",
              "                        [-0.0972, -0.0898,  0.0187],\n",
              "                        [-0.0726, -0.0230, -0.0645]],\n",
              "              \n",
              "                       [[-0.0057,  0.0782, -0.0332],\n",
              "                        [ 0.0762,  0.0971, -0.0363],\n",
              "                        [ 0.0024,  0.0590,  0.0726]],\n",
              "              \n",
              "                       [[-0.0275, -0.0885,  0.0411],\n",
              "                        [-0.0868, -0.0604,  0.0153],\n",
              "                        [-0.0735,  0.0905, -0.1008]],\n",
              "              \n",
              "                       [[ 0.0075,  0.0936, -0.0451],\n",
              "                        [-0.0436, -0.0526, -0.1038],\n",
              "                        [ 0.0295, -0.0227,  0.0723]],\n",
              "              \n",
              "                       [[-0.0031, -0.0917,  0.0282],\n",
              "                        [-0.0466, -0.0179, -0.0799],\n",
              "                        [ 0.0467, -0.0493, -0.0899]]],\n",
              "              \n",
              "              \n",
              "                      [[[ 0.0275, -0.0005,  0.1030],\n",
              "                        [-0.0350, -0.0918, -0.0473],\n",
              "                        [ 0.0697,  0.0192, -0.0671]],\n",
              "              \n",
              "                       [[-0.0119,  0.0406, -0.0775],\n",
              "                        [-0.0666, -0.0544,  0.0970],\n",
              "                        [-0.1045, -0.0099,  0.0922]],\n",
              "              \n",
              "                       [[-0.0977,  0.0596, -0.0484],\n",
              "                        [-0.0299, -0.0336, -0.0885],\n",
              "                        [ 0.0039,  0.0756,  0.0186]],\n",
              "              \n",
              "                       [[-0.0211, -0.0428, -0.0488],\n",
              "                        [ 0.0068, -0.0036,  0.0737],\n",
              "                        [ 0.0642, -0.0684,  0.0788]],\n",
              "              \n",
              "                       [[-0.0706,  0.0854,  0.0469],\n",
              "                        [-0.0962, -0.0237, -0.0413],\n",
              "                        [-0.0404,  0.0531, -0.0849]],\n",
              "              \n",
              "                       [[ 0.0016, -0.0616,  0.0129],\n",
              "                        [ 0.0212,  0.0164,  0.0558],\n",
              "                        [ 0.0378, -0.0969, -0.0799]],\n",
              "              \n",
              "                       [[ 0.0402, -0.0929,  0.0711],\n",
              "                        [ 0.0834, -0.0275, -0.0340],\n",
              "                        [ 0.0743, -0.0779,  0.0761]],\n",
              "              \n",
              "                       [[-0.0349, -0.0327, -0.0740],\n",
              "                        [-0.0122,  0.0846,  0.0061],\n",
              "                        [ 0.0543, -0.0880, -0.0471]],\n",
              "              \n",
              "                       [[ 0.0545, -0.0892, -0.0611],\n",
              "                        [ 0.0384, -0.0226,  0.0353],\n",
              "                        [-0.0323,  0.0194,  0.0630]],\n",
              "              \n",
              "                       [[-0.0884,  0.0757,  0.0892],\n",
              "                        [-0.0133, -0.0182, -0.0154],\n",
              "                        [-0.0643, -0.0746, -0.0121]]],\n",
              "              \n",
              "              \n",
              "                      [[[-0.0560, -0.0321,  0.0147],\n",
              "                        [ 0.0371,  0.0403,  0.0615],\n",
              "                        [ 0.0017, -0.0736, -0.0976]],\n",
              "              \n",
              "                       [[ 0.0539,  0.0003, -0.0495],\n",
              "                        [-0.0329,  0.0755, -0.0455],\n",
              "                        [ 0.0528,  0.0441,  0.0363]],\n",
              "              \n",
              "                       [[ 0.0542,  0.0325,  0.0282],\n",
              "                        [ 0.0481,  0.0306,  0.0136],\n",
              "                        [ 0.0713,  0.0665, -0.0872]],\n",
              "              \n",
              "                       [[ 0.0269, -0.1003, -0.0535],\n",
              "                        [-0.0019,  0.0683,  0.0362],\n",
              "                        [ 0.0339, -0.0147, -0.0245]],\n",
              "              \n",
              "                       [[ 0.0069, -0.0646, -0.0849],\n",
              "                        [-0.0086, -0.1045, -0.0769],\n",
              "                        [-0.0007,  0.0825, -0.0765]],\n",
              "              \n",
              "                       [[-0.0987,  0.0001, -0.0670],\n",
              "                        [-0.0879,  0.0405, -0.0035],\n",
              "                        [-0.0186,  0.0684,  0.0358]],\n",
              "              \n",
              "                       [[-0.0441,  0.0525, -0.0524],\n",
              "                        [ 0.0375,  0.0028,  0.0999],\n",
              "                        [ 0.0323,  0.0085, -0.0513]],\n",
              "              \n",
              "                       [[-0.0600, -0.0358, -0.0402],\n",
              "                        [ 0.0668,  0.0852,  0.0566],\n",
              "                        [ 0.0893,  0.0596,  0.0498]],\n",
              "              \n",
              "                       [[-0.0099, -0.0577, -0.0329],\n",
              "                        [-0.0332,  0.0762, -0.0586],\n",
              "                        [-0.0062,  0.0415, -0.0855]],\n",
              "              \n",
              "                       [[ 0.0828,  0.0679, -0.0412],\n",
              "                        [ 0.0520,  0.0794, -0.0636],\n",
              "                        [ 0.0913,  0.0198, -0.0109]]],\n",
              "              \n",
              "              \n",
              "                      [[[ 0.0827,  0.0418,  0.0012],\n",
              "                        [ 0.0239, -0.0981, -0.0486],\n",
              "                        [-0.0437, -0.0089,  0.0121]],\n",
              "              \n",
              "                       [[-0.0391, -0.0406, -0.0378],\n",
              "                        [ 0.0923, -0.0905,  0.0765],\n",
              "                        [-0.0741, -0.0119,  0.0242]],\n",
              "              \n",
              "                       [[ 0.0686,  0.0174,  0.0920],\n",
              "                        [-0.0134,  0.0598,  0.0979],\n",
              "                        [-0.0281,  0.0997, -0.0656]],\n",
              "              \n",
              "                       [[ 0.0149, -0.0898, -0.0856],\n",
              "                        [ 0.0890, -0.0436,  0.0640],\n",
              "                        [ 0.0337,  0.0988,  0.0770]],\n",
              "              \n",
              "                       [[ 0.1045,  0.0876, -0.0581],\n",
              "                        [-0.0058,  0.1018,  0.0051],\n",
              "                        [ 0.0688, -0.0486,  0.0954]],\n",
              "              \n",
              "                       [[-0.0185, -0.0757,  0.0789],\n",
              "                        [-0.0588, -0.0522, -0.0290],\n",
              "                        [ 0.0186, -0.0542,  0.0978]],\n",
              "              \n",
              "                       [[-0.0366,  0.0030,  0.0600],\n",
              "                        [ 0.0388, -0.0020,  0.0487],\n",
              "                        [-0.0558,  0.0935, -0.0425]],\n",
              "              \n",
              "                       [[-0.0125, -0.0236,  0.0790],\n",
              "                        [ 0.0628, -0.0980,  0.0007],\n",
              "                        [-0.0299,  0.0609,  0.0409]],\n",
              "              \n",
              "                       [[ 0.0383, -0.0149, -0.0070],\n",
              "                        [-0.0333, -0.0708, -0.0350],\n",
              "                        [ 0.0733, -0.0511, -0.1010]],\n",
              "              \n",
              "                       [[-0.0455, -0.0026,  0.0786],\n",
              "                        [ 0.0744, -0.0228,  0.0615],\n",
              "                        [-0.0461,  0.0921, -0.0315]]],\n",
              "              \n",
              "              \n",
              "                      [[[-0.0905, -0.0277,  0.0417],\n",
              "                        [-0.0183, -0.0298, -0.0246],\n",
              "                        [-0.0794, -0.0113,  0.0467]],\n",
              "              \n",
              "                       [[ 0.0435,  0.0448,  0.0530],\n",
              "                        [-0.0139,  0.0534, -0.0935],\n",
              "                        [ 0.0021,  0.0216, -0.0850]],\n",
              "              \n",
              "                       [[ 0.0556, -0.0807, -0.0088],\n",
              "                        [-0.0475,  0.0111, -0.0603],\n",
              "                        [ 0.0488,  0.0658,  0.0491]],\n",
              "              \n",
              "                       [[ 0.0557, -0.0320,  0.0041],\n",
              "                        [ 0.0319, -0.1032,  0.0493],\n",
              "                        [ 0.0864,  0.0190,  0.0413]],\n",
              "              \n",
              "                       [[-0.0966,  0.0164,  0.0452],\n",
              "                        [-0.0273, -0.0538, -0.0783],\n",
              "                        [-0.0452,  0.0201, -0.0349]],\n",
              "              \n",
              "                       [[-0.0339,  0.0655, -0.0598],\n",
              "                        [-0.0385, -0.0650, -0.0450],\n",
              "                        [ 0.0643,  0.0478, -0.0471]],\n",
              "              \n",
              "                       [[-0.0476,  0.0687, -0.0280],\n",
              "                        [-0.0852,  0.0127, -0.0460],\n",
              "                        [ 0.0350, -0.1045, -0.0413]],\n",
              "              \n",
              "                       [[-0.0018, -0.0763,  0.0623],\n",
              "                        [-0.0923, -0.0046, -0.0903],\n",
              "                        [-0.0592, -0.0338,  0.0173]],\n",
              "              \n",
              "                       [[ 0.0853, -0.0470,  0.0458],\n",
              "                        [ 0.0751,  0.0992, -0.0765],\n",
              "                        [-0.0925,  0.0065, -0.0831]],\n",
              "              \n",
              "                       [[ 0.1027, -0.0453,  0.0590],\n",
              "                        [-0.0058, -0.0759, -0.0576],\n",
              "                        [ 0.0014,  0.0550, -0.0276]]]], device='cuda:0')),\n",
              "             ('conv_block_2.2.bias',\n",
              "              tensor([-0.0532,  0.0692,  0.0423, -0.0096,  0.0119,  0.0200,  0.0532, -0.1053,\n",
              "                      -0.0444, -0.0861], device='cuda:0')),\n",
              "             ('classifier.1.weight',\n",
              "              tensor([[ 0.0025, -0.0350, -0.0235,  ..., -0.0012, -0.0445, -0.0345],\n",
              "                      [ 0.0234,  0.0282, -0.0197,  ..., -0.0243, -0.0005,  0.0447],\n",
              "                      [-0.0359,  0.0292,  0.0340,  ...,  0.0445,  0.0311, -0.0277],\n",
              "                      ...,\n",
              "                      [ 0.0219,  0.0036, -0.0273,  ..., -0.0043,  0.0179, -0.0355],\n",
              "                      [-0.0165, -0.0435,  0.0244,  ..., -0.0347,  0.0078,  0.0144],\n",
              "                      [-0.0367,  0.0367, -0.0136,  ..., -0.0184,  0.0288,  0.0443]],\n",
              "                     device='cuda:0')),\n",
              "             ('classifier.1.bias',\n",
              "              tensor([-0.0117,  0.0170, -0.0202, -0.0049, -0.0218, -0.0389,  0.0107, -0.0038,\n",
              "                      -0.0196,  0.0202], device='cuda:0'))])"
            ]
          },
          "execution_count": 24,
          "metadata": {},
          "output_type": "execute_result"
        }
      ],
      "source": [
        "model.state_dict()"
      ]
    },
    {
      "cell_type": "markdown",
      "metadata": {
        "id": "sf_3zUr7xlhy"
      },
      "source": [
        "## 9. Train the model you built in exercise 8. for 5 epochs on CPU and GPU and see how long it takes on each."
      ]
    },
    {
      "cell_type": "code",
      "execution_count": 26,
      "metadata": {},
      "outputs": [
        {
          "name": "stderr",
          "output_type": "stream",
          "text": [
            " 20%|██        | 1/5 [00:12<00:49, 12.31s/it]"
          ]
        },
        {
          "name": "stdout",
          "output_type": "stream",
          "text": [
            "Epoch: 0 | Loss: 0.264 | Test loss: 0.074\n"
          ]
        },
        {
          "name": "stderr",
          "output_type": "stream",
          "text": [
            " 40%|████      | 2/5 [00:24<00:37, 12.37s/it]"
          ]
        },
        {
          "name": "stdout",
          "output_type": "stream",
          "text": [
            "Epoch: 1 | Loss: 0.072 | Test loss: 0.063\n"
          ]
        },
        {
          "name": "stderr",
          "output_type": "stream",
          "text": [
            " 60%|██████    | 3/5 [00:37<00:24, 12.43s/it]"
          ]
        },
        {
          "name": "stdout",
          "output_type": "stream",
          "text": [
            "Epoch: 2 | Loss: 0.055 | Test loss: 0.043\n"
          ]
        },
        {
          "name": "stderr",
          "output_type": "stream",
          "text": [
            " 80%|████████  | 4/5 [00:49<00:12, 12.36s/it]"
          ]
        },
        {
          "name": "stdout",
          "output_type": "stream",
          "text": [
            "Epoch: 3 | Loss: 0.047 | Test loss: 0.038\n"
          ]
        },
        {
          "name": "stderr",
          "output_type": "stream",
          "text": [
            "100%|██████████| 5/5 [01:01<00:00, 12.33s/it]"
          ]
        },
        {
          "name": "stdout",
          "output_type": "stream",
          "text": [
            "Epoch: 4 | Loss: 0.039 | Test loss: 0.042\n",
            "CPU times: user 10min 15s, sys: 468 ms, total: 10min 15s\n",
            "Wall time: 1min 1s\n"
          ]
        },
        {
          "name": "stderr",
          "output_type": "stream",
          "text": [
            "\n"
          ]
        }
      ],
      "source": [
        "%%time\n",
        "\n",
        "from tqdm.auto import tqdm\n",
        "\n",
        "# Train on CPU\n",
        "model_cpu = MNIST_model(input_shape=1, \n",
        "                        hidden_units=10,\n",
        "                        output_shape=10).to(\"cpu\")\n",
        "\n",
        "# 创建损失函数和优化器\n",
        "loss_fn = nn.CrossEntropyLoss()\n",
        "optimizer = torch.optim.SGD(model_cpu.parameters(), lr=0.1)\n",
        "\n",
        "# 训练循环\n",
        "epochs = 5\n",
        "for epoch in tqdm(range(epochs)):\n",
        "    train_loss = 0\n",
        "    for batch, (X, y) in enumerate(train_dataloader):\n",
        "        model_cpu.train()\n",
        "\n",
        "        # Put data on CPU\n",
        "        X, y = X.to(\"cpu\"), y.to(\"cpu\")\n",
        "\n",
        "        # Forward pass\n",
        "        y_pred = model_cpu(X)\n",
        "\n",
        "        # Loss calculation\n",
        "        loss = loss_fn(y_pred, y)\n",
        "        train_loss += loss\n",
        "\n",
        "        # Optimizer zero grad\n",
        "        optimizer.zero_grad()\n",
        "\n",
        "        # Loss backward\n",
        "        loss.backward()\n",
        "\n",
        "        # Step the optimizer\n",
        "        optimizer.step()\n",
        "\n",
        "    # Adjust train loss for number of batches\n",
        "    train_loss /= len(train_dataloader)\n",
        "\n",
        "    ### Testing loop\n",
        "    test_loss_total = 0\n",
        "\n",
        "    # Put model in eval mode \n",
        "    model_cpu.eval()\n",
        "\n",
        "    # Turn on inference mode\n",
        "    with torch.inference_mode():\n",
        "        for batch, (X_test, y_test) in enumerate(test_dataloader):\n",
        "            # Make sure test data on CPU\n",
        "            X_test, y_test = X_test.to(\"cpu\"), y_test.to(\"cpu\")\n",
        "            test_pred = model_cpu(X_test)\n",
        "            test_loss = loss_fn(test_pred, y_test)\n",
        "\n",
        "            test_loss_total += test_loss\n",
        "    \n",
        "        test_loss_total /= len(test_dataloader)\n",
        "  \n",
        "    # Print out what's happening\n",
        "    print(f\"Epoch: {epoch} | Loss: {train_loss:.3f} | Test loss: {test_loss_total:.3f}\")"
      ]
    },
    {
      "cell_type": "markdown",
      "metadata": {},
      "source": [
        "在GPU上训练"
      ]
    },
    {
      "cell_type": "code",
      "execution_count": 27,
      "metadata": {},
      "outputs": [
        {
          "name": "stderr",
          "output_type": "stream",
          "text": [
            " 20%|██        | 1/5 [00:11<00:47, 11.91s/it]"
          ]
        },
        {
          "name": "stdout",
          "output_type": "stream",
          "text": [
            "Epoch: 0 | Loss: 0.311 | Test loss: 0.083\n"
          ]
        },
        {
          "name": "stderr",
          "output_type": "stream",
          "text": [
            " 40%|████      | 2/5 [00:24<00:36, 12.03s/it]"
          ]
        },
        {
          "name": "stdout",
          "output_type": "stream",
          "text": [
            "Epoch: 1 | Loss: 0.072 | Test loss: 0.046\n"
          ]
        },
        {
          "name": "stderr",
          "output_type": "stream",
          "text": [
            " 60%|██████    | 3/5 [00:35<00:24, 12.00s/it]"
          ]
        },
        {
          "name": "stdout",
          "output_type": "stream",
          "text": [
            "Epoch: 2 | Loss: 0.055 | Test loss: 0.047\n"
          ]
        },
        {
          "name": "stderr",
          "output_type": "stream",
          "text": [
            " 80%|████████  | 4/5 [00:47<00:11, 11.90s/it]"
          ]
        },
        {
          "name": "stdout",
          "output_type": "stream",
          "text": [
            "Epoch: 3 | Loss: 0.047 | Test loss: 0.038\n"
          ]
        },
        {
          "name": "stderr",
          "output_type": "stream",
          "text": [
            "100%|██████████| 5/5 [00:59<00:00, 11.91s/it]"
          ]
        },
        {
          "name": "stdout",
          "output_type": "stream",
          "text": [
            "Epoch: 4 | Loss: 0.040 | Test loss: 0.037\n",
            "CPU times: user 59.7 s, sys: 294 ms, total: 60 s\n",
            "Wall time: 59.6 s\n"
          ]
        },
        {
          "name": "stderr",
          "output_type": "stream",
          "text": [
            "\n"
          ]
        }
      ],
      "source": [
        "%%time\n",
        "\n",
        "from tqdm.auto import tqdm \n",
        "\n",
        "\n",
        "# Train on GPU\n",
        "model_gpu = MNIST_model(input_shape=1,\n",
        "                        hidden_units=10,\n",
        "                        output_shape=10).to(device)\n",
        "\n",
        "# Create a loss function and optimizer\n",
        "loss_fn = nn.CrossEntropyLoss()\n",
        "optimizer = torch.optim.SGD(model_gpu.parameters(), lr=0.1)\n",
        "\n",
        "# Training loop\n",
        "epochs = 5\n",
        "for epoch in tqdm(range(epochs)):\n",
        "    train_loss = 0\n",
        "    model_gpu.train()\n",
        "    for batch, (X, y) in enumerate(train_dataloader):\n",
        "        # Put data on target device\n",
        "        X, y = X.to(device), y.to(device)\n",
        "\n",
        "        # Forward pass\n",
        "        y_pred = model_gpu(X)\n",
        "\n",
        "        # Loss calculation\n",
        "        loss = loss_fn(y_pred, y)\n",
        "        train_loss += loss\n",
        "\n",
        "        # Optimizer zero grad\n",
        "        optimizer.zero_grad()\n",
        "\n",
        "        # Loss backward\n",
        "        loss.backward()\n",
        "\n",
        "        # Step the optimizer\n",
        "        optimizer.step()\n",
        "\n",
        "    # Adjust train loss to number of batches\n",
        "    train_loss /= len(train_dataloader)\n",
        "\n",
        "    ### Testing loop\n",
        "    test_loss_total = 0\n",
        "    # Put model in eval mode and turn on inference mode\n",
        "    model_gpu.eval()\n",
        "    with torch.inference_mode():\n",
        "        for batch, (X_test, y_test) in enumerate(test_dataloader):\n",
        "            # Make sure test data on target device\n",
        "            X_test, y_test = X_test.to(device), y_test.to(device)\n",
        "    \n",
        "            test_pred = model_gpu(X_test)\n",
        "            test_loss = loss_fn(test_pred, y_test)\n",
        "\n",
        "            test_loss_total += test_loss\n",
        "\n",
        "        # Adjust test loss total for number of batches\n",
        "        test_loss_total /= len(test_dataloader)\n",
        "\n",
        "    # Print out what's happening\n",
        "    print(f\"Epoch: {epoch} | Loss: {train_loss:.3f} | Test loss: {test_loss_total:.3f}\")"
      ]
    },
    {
      "cell_type": "markdown",
      "metadata": {
        "id": "w1CsHhPpxp1w"
      },
      "source": [
        "## 10. Make predictions using your trained model and visualize at least 5 of them comparing the prediciton to the target label."
      ]
    },
    {
      "cell_type": "code",
      "execution_count": 28,
      "metadata": {
        "id": "_YGgZvSobNxu"
      },
      "outputs": [
        {
          "data": {
            "text/plain": [
              "<matplotlib.image.AxesImage at 0x7fdb324e0b30>"
            ]
          },
          "execution_count": 28,
          "metadata": {},
          "output_type": "execute_result"
        },
        {
          "data": {
            "image/png": "[encoded data removed]",
            "text/plain": [
              "<Figure size 640x480 with 1 Axes>"
            ]
          },
          "metadata": {},
          "output_type": "display_data"
        }
      ],
      "source": [
        "# 对训练的模型做预测\n",
        "plt.imshow(test_data[0][0].squeeze(), cmap=\"gray\")"
      ]
    },
    {
      "cell_type": "code",
      "execution_count": 30,
      "metadata": {},
      "outputs": [
        {
          "data": {
            "text/plain": [
              "tensor([7], device='cuda:0')"
            ]
          },
          "execution_count": 30,
          "metadata": {},
          "output_type": "execute_result"
        }
      ],
      "source": [
        "# logits -> Predictions probabilities -> Prediction labels\n",
        "model_pred_logits = model_gpu(test_data[0][0].unsqueeze(dim=0).to(device))\n",
        "model_pred_probs = torch.softmax(model_pred_logits, dim=1)\n",
        "model_pred_label = torch.argmax(model_pred_probs, dim=1)\n",
        "model_pred_label"
      ]
    },
    {
      "cell_type": "code",
      "execution_count": 31,
      "metadata": {},
      "outputs": [
        {
          "data": {
            "image/png": "[encoded data removed]",
            "text/plain": [
              "<Figure size 640x480 with 1 Axes>"
            ]
          },
          "metadata": {},
          "output_type": "display_data"
        },
        {
          "data": {
            "image/png": "[encoded data removed]",
            "text/plain": [
              "<Figure size 640x480 with 1 Axes>"
            ]
          },
          "metadata": {},
          "output_type": "display_data"
        },
        {
          "data": {
            "image/png": "[encoded data removed]",
            "text/plain": [
              "<Figure size 640x480 with 1 Axes>"
            ]
          },
          "metadata": {},
          "output_type": "display_data"
        },
        {
          "data": {
            "image/png": "[encoded data removed]",
            "text/plain": [
              "<Figure size 640x480 with 1 Axes>"
            ]
          },
          "metadata": {},
          "output_type": "display_data"
        },
        {
          "data": {
            "image/png": "[encoded data removed]",
            "text/plain": [
              "<Figure size 640x480 with 1 Axes>"
            ]
          },
          "metadata": {},
          "output_type": "display_data"
        }
      ],
      "source": [
        "num_to_plot = 5 \n",
        "for i in range(num_to_plot):\n",
        "    # Get image and labels from the test data\n",
        "    img = test_data[i][0]\n",
        "    label = test_data[i][1]\n",
        "\n",
        "    # Make prediction on image\n",
        "    model_pred_logits = model_gpu(img.unsqueeze(dim=0).to(device))\n",
        "    model_pred_probs = torch.softmax(model_pred_logits, dim=1)\n",
        "    model_pred_label = torch.argmax(model_pred_probs, dim=1)\n",
        "\n",
        "    # Plot the image and prediction\n",
        "    plt.figure()\n",
        "    plt.imshow(img.squeeze(), cmap=\"gray\")\n",
        "    plt.title(f\"Truth: {label} | Pred: {model_pred_label.cpu().item()}\") \n",
        "    plt.axis(False);"
      ]
    },
    {
      "cell_type": "markdown",
      "metadata": {
        "id": "qQwzqlBWxrpG"
      },
      "source": [
        "## 11. Plot a confusion matrix comparing your model's predictions to the truth labels."
      ]
    },
    {
      "cell_type": "code",
      "execution_count": 32,
      "metadata": {
        "id": "vSrXiT_AbQ6e"
      },
      "outputs": [
        {
          "name": "stderr",
          "output_type": "stream",
          "text": [
            "313it [00:00, 452.66it/s]\n"
          ]
        },
        {
          "data": {
            "text/plain": [
              "10000"
            ]
          },
          "execution_count": 32,
          "metadata": {},
          "output_type": "execute_result"
        }
      ],
      "source": [
        "# Make predictions across all test data\n",
        "from tqdm.auto import tqdm\n",
        "model_gpu.eval()\n",
        "y_preds = []\n",
        "with torch.inference_mode():\n",
        "  for batch, (X, y) in tqdm(enumerate(test_dataloader)):\n",
        "    # Make sure data on right device\n",
        "    X, y = X.to(device), y.to(device)\n",
        "    # Forward pass\n",
        "    y_pred_logits = model_gpu(X)\n",
        "    # Logits -> Pred probs -> Pred label\n",
        "    y_pred_labels = torch.argmax(torch.softmax(y_pred_logits, dim=1), dim=1)\n",
        "    # Append the labels to the preds list\n",
        "    y_preds.append(y_pred_labels)\n",
        "  y_preds=torch.cat(y_preds).cpu()\n",
        "len(y_preds)"
      ]
    },
    {
      "cell_type": "code",
      "execution_count": 33,
      "metadata": {},
      "outputs": [
        {
          "data": {
            "image/png": "[encoded data removed]",
            "text/plain": [
              "<Figure size 1000x700 with 1 Axes>"
            ]
          },
          "metadata": {},
          "output_type": "display_data"
        }
      ],
      "source": [
        "from torchmetrics import ConfusionMatrix\n",
        "from mlxtend.plotting import plot_confusion_matrix\n",
        "\n",
        "# Setup confusion matrix \n",
        "confmat = ConfusionMatrix(task=\"multiclass\", num_classes=len(class_names))\n",
        "confmat_tensor = confmat(preds=y_preds,\n",
        "                         target=test_data.targets)\n",
        "\n",
        "# Plot the confusion matrix\n",
        "fix, ax = plot_confusion_matrix(\n",
        "    conf_mat=confmat_tensor.numpy(),\n",
        "    class_names=class_names,\n",
        "    figsize=(10, 7)\n",
        ")"
      ]
    },
    {
      "cell_type": "markdown",
      "metadata": {
        "id": "lj6bDhoWxt2y"
      },
      "source": [
        "## 12. Create a random tensor of shape `[1, 3, 64, 64]` and pass it through a `nn.Conv2d()` layer with various hyperparameter settings (these can be any settings you choose), what do you notice if the `kernel_size` parameter goes up and down?"
      ]
    },
    {
      "cell_type": "code",
      "execution_count": 34,
      "metadata": {
        "id": "leCTsqtSbR5P"
      },
      "outputs": [
        {
          "data": {
            "text/plain": [
              "torch.Size([1, 3, 64, 64])"
            ]
          },
          "execution_count": 34,
          "metadata": {},
          "output_type": "execute_result"
        }
      ],
      "source": [
        "random_tensor = torch.rand([1, 3, 64, 64])\n",
        "random_tensor.shape"
      ]
    },
    {
      "cell_type": "code",
      "execution_count": 39,
      "metadata": {},
      "outputs": [
        {
          "name": "stdout",
          "output_type": "stream",
          "text": [
            "Random tensor original shape: torch.Size([1, 3, 64, 64])\n",
            "Random tensor through conv layer shape: torch.Size([1, 64, 32, 32])\n"
          ]
        }
      ],
      "source": [
        "conv_layer = nn.Conv2d(in_channels=3, \n",
        "                       out_channels=64, \n",
        "                       kernel_size=3, \n",
        "                       stride=2, \n",
        "                       padding=1)\n",
        "\n",
        "print(f\"Random tensor original shape: {random_tensor.shape}\")\n",
        "random_tensor_through_conv_layer = conv_layer(random_tensor)\n",
        "print(f\"Random tensor through conv layer shape: {random_tensor_through_conv_layer.shape}\")"
      ]
    },
    {
      "cell_type": "markdown",
      "metadata": {
        "id": "VHS20cNTxwSi"
      },
      "source": [
        "## 13. Use a model similar to the trained `model_2` from notebook 03 to make predictions on the test [`torchvision.datasets.FashionMNIST`](https://pytorch.org/vision/main/generated/torchvision.datasets.FashionMNIST.html) dataset. \n",
        "* Then plot some predictions where the model was wrong alongside what the label of the image should've been. \n",
        "* After visualing these predictions do you think it's more of a modelling error or a data error? \n",
        "* As in, could the model do better or are the labels of the data too close to each other (e.g. a \"Shirt\" label is too close to \"T-shirt/top\")?"
      ]
    },
    {
      "cell_type": "code",
      "execution_count": 40,
      "metadata": {
        "id": "78a8LjtdbSZj"
      },
      "outputs": [
        {
          "name": "stdout",
          "output_type": "stream",
          "text": [
            "Downloading http://fashion-mnist.s3-website.eu-central-1.amazonaws.com/train-images-idx3-ubyte.gz\n",
            "Downloading http://fashion-mnist.s3-website.eu-central-1.amazonaws.com/train-images-idx3-ubyte.gz to ./FashionMNIST/raw/train-images-idx3-ubyte.gz\n"
          ]
        },
        {
          "name": "stderr",
          "output_type": "stream",
          "text": [
            "100%|██████████| 26421880/26421880 [00:03<00:00, 6719718.56it/s] \n"
          ]
        },
        {
          "name": "stdout",
          "output_type": "stream",
          "text": [
            "Extracting ./FashionMNIST/raw/train-images-idx3-ubyte.gz to ./FashionMNIST/raw\n",
            "\n",
            "Downloading http://fashion-mnist.s3-website.eu-central-1.amazonaws.com/train-labels-idx1-ubyte.gz\n",
            "Downloading http://fashion-mnist.s3-website.eu-central-1.amazonaws.com/train-labels-idx1-ubyte.gz to ./FashionMNIST/raw/train-labels-idx1-ubyte.gz\n"
          ]
        },
        {
          "name": "stderr",
          "output_type": "stream",
          "text": [
            "100%|██████████| 29515/29515 [00:00<00:00, 95729.26it/s]\n"
          ]
        },
        {
          "name": "stdout",
          "output_type": "stream",
          "text": [
            "Extracting ./FashionMNIST/raw/train-labels-idx1-ubyte.gz to ./FashionMNIST/raw\n",
            "\n",
            "Downloading http://fashion-mnist.s3-website.eu-central-1.amazonaws.com/t10k-images-idx3-ubyte.gz\n",
            "Downloading http://fashion-mnist.s3-website.eu-central-1.amazonaws.com/t10k-images-idx3-ubyte.gz to ./FashionMNIST/raw/t10k-images-idx3-ubyte.gz\n"
          ]
        },
        {
          "name": "stderr",
          "output_type": "stream",
          "text": [
            "100%|██████████| 4422102/4422102 [00:02<00:00, 1982133.96it/s]\n"
          ]
        },
        {
          "name": "stdout",
          "output_type": "stream",
          "text": [
            "Extracting ./FashionMNIST/raw/t10k-images-idx3-ubyte.gz to ./FashionMNIST/raw\n",
            "\n",
            "Downloading http://fashion-mnist.s3-website.eu-central-1.amazonaws.com/t10k-labels-idx1-ubyte.gz\n",
            "Downloading http://fashion-mnist.s3-website.eu-central-1.amazonaws.com/t10k-labels-idx1-ubyte.gz to ./FashionMNIST/raw/t10k-labels-idx1-ubyte.gz\n"
          ]
        },
        {
          "name": "stderr",
          "output_type": "stream",
          "text": [
            "100%|██████████| 5148/5148 [00:00<00:00, 25890020.37it/s]"
          ]
        },
        {
          "name": "stdout",
          "output_type": "stream",
          "text": [
            "Extracting ./FashionMNIST/raw/t10k-labels-idx1-ubyte.gz to ./FashionMNIST/raw\n",
            "\n"
          ]
        },
        {
          "name": "stderr",
          "output_type": "stream",
          "text": [
            "\n"
          ]
        },
        {
          "data": {
            "text/plain": [
              "(60000, 10000)"
            ]
          },
          "execution_count": 40,
          "metadata": {},
          "output_type": "execute_result"
        }
      ],
      "source": [
        "# Download FashionMNIST train & test\n",
        "from torchvision import datasets\n",
        "from torchvision import transforms\n",
        "\n",
        "fashion_mnist_train = datasets.FashionMNIST(root=\".\",\n",
        "                                            download=True,\n",
        "                                            train=True,\n",
        "                                            transform=transforms.ToTensor())\n",
        "\n",
        "fashion_mnist_test = datasets.FashionMNIST(root=\".\",\n",
        "                                           train=False,\n",
        "                                           download=True,\n",
        "                                           transform=transforms.ToTensor())\n",
        "\n",
        "len(fashion_mnist_train), len(fashion_mnist_test)"
      ]
    },
    {
      "cell_type": "code",
      "execution_count": 41,
      "metadata": {},
      "outputs": [
        {
          "data": {
            "text/plain": [
              "['T-shirt/top',\n",
              " 'Trouser',\n",
              " 'Pullover',\n",
              " 'Dress',\n",
              " 'Coat',\n",
              " 'Sandal',\n",
              " 'Shirt',\n",
              " 'Sneaker',\n",
              " 'Bag',\n",
              " 'Ankle boot']"
            ]
          },
          "execution_count": 41,
          "metadata": {},
          "output_type": "execute_result"
        }
      ],
      "source": [
        "# Get the class names of the Fashion MNIST dataset\n",
        "fashion_mnist_class_names = fashion_mnist_train.classes\n",
        "fashion_mnist_class_names"
      ]
    },
    {
      "cell_type": "code",
      "execution_count": 42,
      "metadata": {},
      "outputs": [
        {
          "data": {
            "text/plain": [
              "(1875, 313)"
            ]
          },
          "execution_count": 42,
          "metadata": {},
          "output_type": "execute_result"
        }
      ],
      "source": [
        "# Turn FashionMNIST datasets into dataloaders\n",
        "from torch.utils.data import DataLoader\n",
        "\n",
        "fashion_mnist_train_dataloader = DataLoader(fashion_mnist_train,\n",
        "                                            batch_size=32,\n",
        "                                            shuffle=True)\n",
        "\n",
        "fashion_mnist_test_dataloader = DataLoader(fashion_mnist_test,\n",
        "                                           batch_size=32,\n",
        "                                           shuffle=False)\n",
        "\n",
        "len(fashion_mnist_train_dataloader), len(fashion_mnist_test_dataloader)\n",
        "     "
      ]
    },
    {
      "cell_type": "code",
      "execution_count": 43,
      "metadata": {},
      "outputs": [
        {
          "data": {
            "text/plain": [
              "MNIST_model(\n",
              "  (conv_block_1): Sequential(\n",
              "    (0): Conv2d(1, 10, kernel_size=(3, 3), stride=(1, 1), padding=(1, 1))\n",
              "    (1): ReLU()\n",
              "    (2): Conv2d(10, 10, kernel_size=(3, 3), stride=(1, 1), padding=(1, 1))\n",
              "    (3): ReLU()\n",
              "    (4): MaxPool2d(kernel_size=2, stride=2, padding=0, dilation=1, ceil_mode=False)\n",
              "  )\n",
              "  (conv_block_2): Sequential(\n",
              "    (0): Conv2d(10, 10, kernel_size=(3, 3), stride=(1, 1), padding=(1, 1))\n",
              "    (1): ReLU()\n",
              "    (2): Conv2d(10, 10, kernel_size=(3, 3), stride=(1, 1), padding=(1, 1))\n",
              "    (3): ReLU()\n",
              "    (4): MaxPool2d(kernel_size=2, stride=2, padding=0, dilation=1, ceil_mode=False)\n",
              "  )\n",
              "  (classifier): Sequential(\n",
              "    (0): Flatten(start_dim=1, end_dim=-1)\n",
              "    (1): Linear(in_features=490, out_features=10, bias=True)\n",
              "  )\n",
              ")"
            ]
          },
          "execution_count": 43,
          "metadata": {},
          "output_type": "execute_result"
        }
      ],
      "source": [
        "# model_2 is the same architecture as MNIST_model\n",
        "model_2 = MNIST_model(input_shape=1,\n",
        "                      hidden_units=10,\n",
        "                      output_shape=10).to(device)\n",
        "model_2"
      ]
    },
    {
      "cell_type": "code",
      "execution_count": 44,
      "metadata": {},
      "outputs": [],
      "source": [
        "# Setup loss and optimizer\n",
        "from torch import nn\n",
        "loss_fn = nn.CrossEntropyLoss()\n",
        "optimizer = torch.optim.SGD(model_2.parameters(), lr=0.01)"
      ]
    },
    {
      "cell_type": "code",
      "execution_count": 45,
      "metadata": {},
      "outputs": [
        {
          "name": "stderr",
          "output_type": "stream",
          "text": [
            " 20%|██        | 1/5 [00:12<00:51, 12.85s/it]"
          ]
        },
        {
          "name": "stdout",
          "output_type": "stream",
          "text": [
            "Epoch: 0 | Train loss: 1.134 | Train acc: 0.58 | Test loss: 195.698 | Test acc: 0.77\n"
          ]
        },
        {
          "name": "stderr",
          "output_type": "stream",
          "text": [
            " 40%|████      | 2/5 [00:25<00:38, 12.89s/it]"
          ]
        },
        {
          "name": "stdout",
          "output_type": "stream",
          "text": [
            "Epoch: 1 | Train loss: 0.530 | Train acc: 0.81 | Test loss: 161.804 | Test acc: 0.81\n"
          ]
        },
        {
          "name": "stderr",
          "output_type": "stream",
          "text": [
            " 60%|██████    | 3/5 [00:38<00:25, 12.94s/it]"
          ]
        },
        {
          "name": "stdout",
          "output_type": "stream",
          "text": [
            "Epoch: 2 | Train loss: 0.439 | Train acc: 0.84 | Test loss: 147.012 | Test acc: 0.83\n"
          ]
        },
        {
          "name": "stderr",
          "output_type": "stream",
          "text": [
            " 80%|████████  | 4/5 [00:51<00:12, 12.99s/it]"
          ]
        },
        {
          "name": "stdout",
          "output_type": "stream",
          "text": [
            "Epoch: 3 | Train loss: 0.399 | Train acc: 0.86 | Test loss: 125.706 | Test acc: 0.86\n"
          ]
        },
        {
          "name": "stderr",
          "output_type": "stream",
          "text": [
            "100%|██████████| 5/5 [01:05<00:00, 13.00s/it]"
          ]
        },
        {
          "name": "stdout",
          "output_type": "stream",
          "text": [
            "Epoch: 4 | Train loss: 0.374 | Train acc: 0.86 | Test loss: 126.057 | Test acc: 0.85\n"
          ]
        },
        {
          "name": "stderr",
          "output_type": "stream",
          "text": [
            "\n"
          ]
        }
      ],
      "source": [
        "# Setup metrics\n",
        "from tqdm.auto import tqdm\n",
        "from torchmetrics import Accuracy\n",
        "\n",
        "acc_fn = Accuracy(task = 'multiclass', num_classes=len(fashion_mnist_class_names)).to(device) \n",
        "\n",
        "# Setup training/testing loop\n",
        "epochs = 5\n",
        "for epoch in tqdm(range(epochs)):\n",
        "  train_loss, test_loss_total = 0, 0\n",
        "  train_acc, test_acc = 0, 0 \n",
        "\n",
        "  ### Training\n",
        "  model_2.train()\n",
        "  for batch, (X_train, y_train) in enumerate(fashion_mnist_train_dataloader):\n",
        "    X_train, y_train = X_train.to(device), y_train.to(device)\n",
        "\n",
        "    # Forward pass and loss\n",
        "    y_pred = model_2(X_train)\n",
        "    loss = loss_fn(y_pred, y_train)\n",
        "    train_loss += loss\n",
        "    train_acc += acc_fn(y_pred, y_train)\n",
        "\n",
        "    # Backprop and gradient descent\n",
        "    optimizer.zero_grad()\n",
        "    loss.backward() \n",
        "    optimizer.step()\n",
        "\n",
        "  # Adjust the loss/acc (find the loss/acc per epoch)\n",
        "  train_loss /= len(fashion_mnist_train_dataloader)\n",
        "  train_acc /= len(fashion_mnist_train_dataloader)\n",
        "\n",
        "  ### Testing\n",
        "  model_2.eval()\n",
        "  with torch.inference_mode():\n",
        "    for batch, (X_test, y_test) in enumerate(fashion_mnist_test_dataloader):\n",
        "      X_test, y_test = X_test.to(device), y_test.to(device)\n",
        "\n",
        "      # Forward pass and loss\n",
        "      y_pred_test = model_2(X_test)\n",
        "      test_loss = loss_fn(y_pred_test, y_test)\n",
        "      test_loss_total += test_loss\n",
        "\n",
        "      test_acc += acc_fn(y_pred_test, y_test)\n",
        "  \n",
        "    # Adjust the loss/acc (find the loss/acc per epoch)\n",
        "    test_loss /= len(fashion_mnist_test_dataloader)\n",
        "    test_acc /= len(fashion_mnist_test_dataloader)\n",
        "    \n",
        "  # Print out what's happening\n",
        "  print(f\"Epoch: {epoch} | Train loss: {train_loss:.3f} | Train acc: {train_acc:.2f} | Test loss: {test_loss_total:.3f} | Test acc: {test_acc:.2f}\")\n",
        "     "
      ]
    },
    {
      "cell_type": "code",
      "execution_count": 46,
      "metadata": {},
      "outputs": [
        {
          "name": "stderr",
          "output_type": "stream",
          "text": [
            "100%|██████████| 313/313 [00:00<00:00, 446.37it/s]\n"
          ]
        },
        {
          "data": {
            "text/plain": [
              "(tensor([9, 2, 1, 1, 6, 1, 4, 6, 5, 7]), 10000)"
            ]
          },
          "execution_count": 46,
          "metadata": {},
          "output_type": "execute_result"
        }
      ],
      "source": [
        "# Make predictions with trained model_2\n",
        "test_preds = []\n",
        "model_2.eval()\n",
        "with torch.inference_mode():\n",
        "  for X_test, y_test in tqdm(fashion_mnist_test_dataloader):\n",
        "    y_logits = model_2(X_test.to(device))\n",
        "    y_pred_probs = torch.softmax(y_logits, dim=1)\n",
        "    y_pred_labels = torch.argmax(y_pred_probs, dim=1)\n",
        "    test_preds.append(y_pred_labels)\n",
        "test_preds = torch.cat(test_preds).cpu() # matplotlib likes CPU\n",
        "test_preds[:10], len(test_preds)    "
      ]
    },
    {
      "cell_type": "code",
      "execution_count": 47,
      "metadata": {},
      "outputs": [
        {
          "data": {
            "text/plain": [
              "1473"
            ]
          },
          "execution_count": 47,
          "metadata": {},
          "output_type": "execute_result"
        }
      ],
      "source": [
        "# Get wrong prediction indexes\n",
        "import numpy as np\n",
        "wrong_pred_indexes = np.where(test_preds != fashion_mnist_test.targets)[0]\n",
        "len(wrong_pred_indexes)"
      ]
    },
    {
      "cell_type": "code",
      "execution_count": 48,
      "metadata": {},
      "outputs": [
        {
          "data": {
            "image/png": "[encoded data removed]",
            "text/plain": [
              "<Figure size 1000x1000 with 9 Axes>"
            ]
          },
          "metadata": {},
          "output_type": "display_data"
        }
      ],
      "source": [
        "# Select random 9 wrong predictions and plot them\n",
        "import random\n",
        "random_selection = random.sample(list(wrong_pred_indexes), k=9)\n",
        "\n",
        "plt.figure(figsize=(10, 10))\n",
        "for i, idx in enumerate(random_selection):\n",
        "  # Get true and pred labels\n",
        "  true_label = fashion_mnist_class_names[fashion_mnist_test[idx][1]]\n",
        "  pred_label = fashion_mnist_class_names[test_preds[idx]]\n",
        "\n",
        "  # Plot the wrong prediction with its original label\n",
        "  plt.subplot(3, 3, i+1)\n",
        "  plt.imshow(fashion_mnist_test[idx][0].squeeze(), cmap=\"gray\")\n",
        "  plt.title(f\"True: {true_label} | Pred: {pred_label}\", c=\"r\")\n",
        "  plt.axis(False);"
      ]
    }
  ],
  "metadata": {
    "accelerator": "GPU",
    "colab": {
      "authorship_tag": "ABX9TyMUsDcN/+FAm9Pf7Ifqs6AZ",
      "collapsed_sections": [],
      "include_colab_link": true,
      "name": "03_pytorch_computer_vision_exercises.ipynb",
      "provenance": []
    },
    "kernelspec": {
      "display_name": "lightning_liang",
      "language": "python",
      "name": "python3"
    },
    "language_info": {
      "codemirror_mode": {
        "name": "ipython",
        "version": 3
      },
      "file_extension": ".py",
      "mimetype": "text/x-python",
      "name": "python",
      "nbconvert_exporter": "python",
      "pygments_lexer": "ipython3",
      "version": "3.12.5"
    }
  },
  "nbformat": 4,
  "nbformat_minor": 0
}
