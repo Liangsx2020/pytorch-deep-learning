{
  "cells": [
    {
      "cell_type": "markdown",
      "metadata": {
        "id": "AzDBM_v4iMe7"
      },
      "source": [
        "# 00. PyTorch Fundamentals Exercises\n",
        "\n",
        "### 1. Documentation reading \n",
        "\n",
        "A big part of deep learning (and learning to code in general) is getting familiar with the documentation of a certain framework you're using. We'll be using the PyTorch documentation a lot throughout the rest of this course. So I'd recommend spending 10-minutes reading the following (it's okay if you don't get some things for now, the focus is not yet full understanding, it's awareness):\n",
        "  * The documentation on [`torch.Tensor`](https://pytorch.org/docs/stable/tensors.html#torch-tensor).\n",
        "  * The documentation on [`torch.cuda`](https://pytorch.org/docs/master/notes/cuda.html#cuda-semantics).\n",
        "\n"
      ]
    },
    {
      "cell_type": "code",
      "execution_count": 1,
      "metadata": {
        "id": "bGD0oD8Kizak"
      },
      "outputs": [],
      "source": [
        "# No code solution (reading)"
      ]
    },
    {
      "cell_type": "markdown",
      "metadata": {
        "id": "__iXqqz-ioUJ"
      },
      "source": [
        "### 2. Create a random tensor with shape `(7, 7)`.\n"
      ]
    },
    {
      "cell_type": "code",
      "execution_count": 5,
      "metadata": {
        "id": "6pUq9Dc8i2L7"
      },
      "outputs": [
        {
          "data": {
            "text/plain": [
              "(tensor([[0.8964, 0.4556, 0.6323, 0.3489, 0.4017, 0.0223, 0.1689],\n",
              "         [0.2939, 0.5185, 0.6977, 0.8000, 0.1610, 0.2823, 0.6816],\n",
              "         [0.9152, 0.3971, 0.8742, 0.4194, 0.5529, 0.9527, 0.0362],\n",
              "         [0.1852, 0.3734, 0.3051, 0.9320, 0.1759, 0.2698, 0.1507],\n",
              "         [0.0317, 0.2081, 0.9298, 0.7231, 0.7423, 0.5263, 0.2437],\n",
              "         [0.5846, 0.0332, 0.1387, 0.2422, 0.8155, 0.7932, 0.2783],\n",
              "         [0.4820, 0.8198, 0.9971, 0.6984, 0.5675, 0.8352, 0.2056]]),\n",
              " torch.Size([7, 7]))"
            ]
          },
          "execution_count": 5,
          "metadata": {},
          "output_type": "execute_result"
        }
      ],
      "source": [
        "# Import torch\n",
        "import torch\n",
        "\n",
        "# Create random tensor\n",
        "random_tensor = torch.rand(size=(7, 7))\n",
        "random_tensor, random_tensor.shape\n"
      ]
    },
    {
      "cell_type": "markdown",
      "metadata": {
        "id": "9-XxvRLfiqkR"
      },
      "source": [
        "### 3. Perform a matrix multiplication on the tensor from 2 with another random tensor with shape `(1, 7)` (hint: you may have to transpose the second tensor)."
      ]
    },
    {
      "cell_type": "code",
      "execution_count": 6,
      "metadata": {
        "id": "NcLqR0Sbi_vT"
      },
      "outputs": [
        {
          "name": "stdout",
          "output_type": "stream",
          "text": [
            "题目2中的张量为：\n",
            " (tensor([[0.8964, 0.4556, 0.6323, 0.3489, 0.4017, 0.0223, 0.1689],\n",
            "        [0.2939, 0.5185, 0.6977, 0.8000, 0.1610, 0.2823, 0.6816],\n",
            "        [0.9152, 0.3971, 0.8742, 0.4194, 0.5529, 0.9527, 0.0362],\n",
            "        [0.1852, 0.3734, 0.3051, 0.9320, 0.1759, 0.2698, 0.1507],\n",
            "        [0.0317, 0.2081, 0.9298, 0.7231, 0.7423, 0.5263, 0.2437],\n",
            "        [0.5846, 0.0332, 0.1387, 0.2422, 0.8155, 0.7932, 0.2783],\n",
            "        [0.4820, 0.8198, 0.9971, 0.6984, 0.5675, 0.8352, 0.2056]]), torch.Size([7, 7])) \n",
            "\n",
            "形状为(1, 7)形状的张量为: \n",
            " (tensor([[0.5932, 0.1123, 0.1535, 0.2417, 0.7262, 0.7011, 0.2038]]), torch.Size([1, 7]))\n",
            "\n",
            "两个张量的乘积为：\n",
            "(tensor([[1.1061],\n",
            "        [0.9868],\n",
            "        [1.8999],\n",
            "        [0.7716],\n",
            "        [1.3174],\n",
            "        [1.6353],\n",
            "        [1.7395]]), torch.Size([7, 1]))\n"
          ]
        }
      ],
      "source": [
        "# Create another random tensor\n",
        "random_tensor_2 = random_tensor\n",
        "random_tensor_3 = torch.rand(size=(1, 7))\n",
        "print(f\"题目2中的张量为：\\n {random_tensor_2, random_tensor_2.shape} \\n\")\n",
        "print(f\"形状为(1, 7)形状的张量为: \\n {random_tensor_3, random_tensor_3.shape}\\n\")\n",
        "\n",
        "# Perform matrix multiplication \n",
        "tensors_mul = torch.matmul(random_tensor_2, random_tensor_3.T) # 别忘了内部维度匹配，所以需要转置\n",
        "print(f\"两个张量的乘积为：\\n{tensors_mul, tensors_mul.shape}\")"
      ]
    },
    {
      "cell_type": "markdown",
      "metadata": {
        "id": "eiutdKUFiryU"
      },
      "source": [
        "### 4. Set the random seed to `0` and do 2 & 3 over again.\n",
        "\n",
        "The output should be:\n",
        "```\n",
        "(tensor([[1.8542],\n",
        "         [1.9611],\n",
        "         [2.2884],\n",
        "         [3.0481],\n",
        "         [1.7067],\n",
        "         [2.5290],\n",
        "         [1.7989]]), torch.Size([7, 1]))\n",
        "```"
      ]
    },
    {
      "cell_type": "code",
      "execution_count": 7,
      "metadata": {
        "id": "D-lOWI_1jRMm"
      },
      "outputs": [
        {
          "name": "stdout",
          "output_type": "stream",
          "text": [
            "设置种子之后的张量2：\n",
            "(tensor([[0.4963, 0.7682, 0.0885, 0.1320, 0.3074, 0.6341, 0.4901],\n",
            "        [0.8964, 0.4556, 0.6323, 0.3489, 0.4017, 0.0223, 0.1689],\n",
            "        [0.2939, 0.5185, 0.6977, 0.8000, 0.1610, 0.2823, 0.6816],\n",
            "        [0.9152, 0.3971, 0.8742, 0.4194, 0.5529, 0.9527, 0.0362],\n",
            "        [0.1852, 0.3734, 0.3051, 0.9320, 0.1759, 0.2698, 0.1507],\n",
            "        [0.0317, 0.2081, 0.9298, 0.7231, 0.7423, 0.5263, 0.2437],\n",
            "        [0.5846, 0.0332, 0.1387, 0.2422, 0.8155, 0.7932, 0.2783]]), torch.Size([7, 7]))\n",
            "\n",
            "设置种子之后的张量3：\n",
            "(tensor([[0.4963, 0.7682, 0.0885, 0.1320, 0.3074, 0.6341, 0.4901]]), torch.Size([1, 7]))\n",
            "\n",
            "打印结果: \n",
            "(tensor([[1.5985],\n",
            "        [1.1173],\n",
            "        [1.2741],\n",
            "        [1.6838],\n",
            "        [0.8279],\n",
            "        [1.0347],\n",
            "        [1.2498]]), torch.Size([7, 1]))\n"
          ]
        }
      ],
      "source": [
        "# Set manual seed\n",
        "RANDOM_SEED = 0\n",
        "\n",
        "# Create two random tensors\n",
        "torch.manual_seed(RANDOM_SEED)\n",
        "tensor_seed_2 = torch.rand(size=(7, 7))\n",
        "print(f\"设置种子之后的张量2：\\n{tensor_seed_2, tensor_seed_2.shape}\\n\")\n",
        "\n",
        "torch.manual_seed(RANDOM_SEED)\n",
        "tensor_seed_3 = torch.rand(size=(1, 7))\n",
        "print(f\"设置种子之后的张量3：\\n{tensor_seed_3, tensor_seed_3.shape}\\n\")\n",
        "\n",
        "# Matrix multiply tensors\n",
        "tensor_seed_mul = torch.matmul(tensor_seed_2, tensor_seed_3.T)\n",
        "print(f\"打印结果: \\n{tensor_seed_mul, tensor_seed_mul.shape}\")"
      ]
    },
    {
      "cell_type": "markdown",
      "metadata": {
        "id": "ezY6ks9Cis37"
      },
      "source": [
        "### 5. Speaking of random seeds, we saw how to set it with `torch.manual_seed()` but is there a GPU equivalent? (hint: you'll need to look into the documentation for `torch.cuda` for this one)\n",
        "  * If there is, set the GPU random seed to `1234`."
      ]
    },
    {
      "cell_type": "code",
      "execution_count": 4,
      "metadata": {
        "id": "_LKWcfSTjp00"
      },
      "outputs": [],
      "source": [
        "# Set random seed on the GPU\n",
        "RANDOM_SEED_GPU = 1234\n",
        "torch.cuda.manual_seed(RANDOM_SEED_GPU)"
      ]
    },
    {
      "cell_type": "markdown",
      "metadata": {
        "id": "Ir9qSaj6it4n"
      },
      "source": [
        "\n",
        "### 6. Create two random tensors of shape `(2, 3)` and send them both to the GPU (you'll need access to a GPU for this). Set `torch.manual_seed(1234)` when creating the tensors (this doesn't have to be the GPU random seed). The output should be something like:\n",
        "\n",
        "```\n",
        "Device: cuda\n",
        "(tensor([[0.0290, 0.4019, 0.2598],\n",
        "         [0.3666, 0.0583, 0.7006]], device='cuda:0'),\n",
        " tensor([[0.0518, 0.4681, 0.6738],\n",
        "         [0.3315, 0.7837, 0.5631]], device='cuda:0'))\n",
        "```"
      ]
    },
    {
      "cell_type": "code",
      "execution_count": 9,
      "metadata": {
        "id": "azXExiFZj5nm"
      },
      "outputs": [
        {
          "name": "stdout",
          "output_type": "stream",
          "text": [
            "设备：cuda\n"
          ]
        },
        {
          "data": {
            "text/plain": [
              "(tensor([[0.0290, 0.4019, 0.2598],\n",
              "         [0.3666, 0.0583, 0.7006]], device='cuda:0'),\n",
              " tensor([[0.0518, 0.4681, 0.6738],\n",
              "         [0.3315, 0.7837, 0.5631]], device='cuda:0'))"
            ]
          },
          "execution_count": 9,
          "metadata": {},
          "output_type": "execute_result"
        }
      ],
      "source": [
        "# Set random seed\n",
        "torch.manual_seed(1234)\n",
        "\n",
        "# Check for access to GPU\n",
        "device = \"cuda\" if torch.cuda.is_available() else \"cpu\"\n",
        "print(f\"设备：{device}\")\n",
        "\n",
        "# Create two random tensors on GPU\n",
        "tensor_A_gpu = torch.rand(size=(2, 3)).to(device)\n",
        "tensor_B_gpu = torch.rand(size=(2, 3)).to(device)\n",
        "\n",
        "tensor_A_gpu, tensor_B_gpu\n",
        "\n"
      ]
    },
    {
      "cell_type": "markdown",
      "metadata": {
        "id": "5TlAxeiSiu1y"
      },
      "source": [
        "\n",
        "### 7. Perform a matrix multiplication on the tensors you created in 6 (again, you may have to adjust the shapes of one of the tensors).\n",
        "\n",
        "The output should look like:\n",
        "```\n",
        "(tensor([[0.3647, 0.4709],\n",
        "         [0.5184, 0.5617]], device='cuda:0'), torch.Size([2, 2]))\n",
        "```"
      ]
    },
    {
      "cell_type": "code",
      "execution_count": 10,
      "metadata": {
        "id": "fAeG7ox0lHEO"
      },
      "outputs": [
        {
          "name": "stdout",
          "output_type": "stream",
          "text": [
            "在GPU上计算的矩阵乘法的乘积为：\n",
            " (tensor([[0.3647, 0.4709],\n",
            "        [0.5184, 0.5617]], device='cuda:0'), torch.Size([2, 2]))\n"
          ]
        }
      ],
      "source": [
        "# Perform matmul on tensor_A and tensor_B\n",
        "tensor_gpu_mul = torch.matmul(tensor_A_gpu, tensor_B_gpu.T)\n",
        "print(f\"在GPU上计算的矩阵乘法的乘积为：\\n {tensor_gpu_mul, tensor_gpu_mul.shape}\")"
      ]
    },
    {
      "cell_type": "markdown",
      "metadata": {
        "id": "G7qfa5CSivwg"
      },
      "source": [
        "### 8. Find the maximum and minimum values of the output of 7."
      ]
    },
    {
      "cell_type": "code",
      "execution_count": 13,
      "metadata": {
        "id": "Fu8_3mZpllOd"
      },
      "outputs": [
        {
          "name": "stdout",
          "output_type": "stream",
          "text": [
            "最大值为：0.5617256760597229\n",
            "最小值为：0.3647301495075226\n"
          ]
        }
      ],
      "source": [
        "# Find max\n",
        "tensor_gpu_mul_max = torch.max(tensor_gpu_mul)\n",
        "# Find min\n",
        "tensor_gpu_mul_min = torch.min(tensor_gpu_mul)\n",
        "\n",
        "print(f\"最大值为：{tensor_gpu_mul_max}\")\n",
        "print(f\"最小值为：{tensor_gpu_mul_min}\")\n"
      ]
    },
    {
      "cell_type": "markdown",
      "metadata": {
        "id": "wrTj5FgNiw47"
      },
      "source": [
        "### 9. Find the maximum and minimum index values of the output of 7."
      ]
    },
    {
      "cell_type": "code",
      "execution_count": 12,
      "metadata": {
        "id": "CCEKt4K2lsfQ"
      },
      "outputs": [
        {
          "name": "stdout",
          "output_type": "stream",
          "text": [
            "最大值索引位置为：\n",
            "3\n",
            "\n",
            "最小值索引位置为：\n",
            "0\n"
          ]
        }
      ],
      "source": [
        "# Find arg max\n",
        "tensor_gpu_mul_max_index = tensor_gpu_mul.argmax()\n",
        "print(f\"最大值索引位置为：\\n{tensor_gpu_mul_max_index}\\n\")\n",
        "\n",
        "# Find arg min\n",
        "tensor_gpu_mul_min_index = tensor_gpu_mul.argmin()\n",
        "print(f\"最小值索引位置为：\\n{tensor_gpu_mul_min_index}\")"
      ]
    },
    {
      "cell_type": "markdown",
      "metadata": {
        "id": "hmeybz4uixy7"
      },
      "source": [
        "\n",
        "### 10. Make a random tensor with shape `(1, 1, 1, 10)` and then create a new tensor with all the `1` dimensions removed to be left with a tensor of shape `(10)`. Set the seed to `7` when you create it and print out the first tensor and it's shape as well as the second tensor and it's shape.\n",
        "\n",
        "The output should look like:\n",
        "\n",
        "```\n",
        "tensor([[[[0.5349, 0.1988, 0.6592, 0.6569, 0.2328, 0.4251, 0.2071, 0.6297,\n",
        "           0.3653, 0.8513]]]]) torch.Size([1, 1, 1, 10])\n",
        "tensor([0.5349, 0.1988, 0.6592, 0.6569, 0.2328, 0.4251, 0.2071, 0.6297, 0.3653,\n",
        "        0.8513]) torch.Size([10])\n",
        "```"
      ]
    },
    {
      "cell_type": "code",
      "execution_count": 14,
      "metadata": {
        "id": "TQ9zbRzVl1jV"
      },
      "outputs": [
        {
          "name": "stdout",
          "output_type": "stream",
          "text": [
            "向量1及其形状：(tensor([[[[0.5349, 0.1988, 0.6592, 0.6569, 0.2328, 0.4251, 0.2071, 0.6297,\n",
            "           0.3653, 0.8513]]]]), torch.Size([1, 1, 1, 10]))\n",
            "向量2及其形状：(tensor([0.5349, 0.1988, 0.6592, 0.6569, 0.2328, 0.4251, 0.2071, 0.6297, 0.3653,\n",
            "        0.8513]), torch.Size([10]))\n"
          ]
        }
      ],
      "source": [
        "# Set seed\n",
        "torch.manual_seed(7)\n",
        "\n",
        "# Create random tensor\n",
        "tensor_dim4 = torch.rand(size=(1, 1, 1, 10))\n",
        "\n",
        "# Remove single dimensions\n",
        "tensor_dim4_remv_1 = tensor_dim4.squeeze()\n",
        "\n",
        "# Print out tensors and their shapes\n",
        "print(f\"向量1及其形状：{tensor_dim4, tensor_dim4.shape}\")\n",
        "print(f\"向量2及其形状：{tensor_dim4_remv_1, tensor_dim4_remv_1.shape}\")"
      ]
    },
    {
      "cell_type": "code",
      "execution_count": null,
      "metadata": {},
      "outputs": [],
      "source": []
    }
  ],
  "metadata": {
    "accelerator": "GPU",
    "colab": {
      "collapsed_sections": [],
      "name": "00_pytorch_fundamentals_exercises.ipynb",
      "provenance": []
    },
    "kernelspec": {
      "display_name": "lightning_liang",
      "language": "python",
      "name": "python3"
    },
    "language_info": {
      "codemirror_mode": {
        "name": "ipython",
        "version": 3
      },
      "file_extension": ".py",
      "mimetype": "text/x-python",
      "name": "python",
      "nbconvert_exporter": "python",
      "pygments_lexer": "ipython3",
      "version": "3.12.5"
    }
  },
  "nbformat": 4,
  "nbformat_minor": 0
}
